{
  "nbformat": 4,
  "nbformat_minor": 0,
  "metadata": {
    "colab": {
      "name": "Untitled1.ipynb",
      "provenance": []
    },
    "kernelspec": {
      "name": "python3",
      "display_name": "Python 3"
    },
    "language_info": {
      "name": "python"
    }
  },
  "cells": [
    {
      "cell_type": "markdown",
      "source": [
        "# **Project Team**\n",
        "\n",
        "\n",
        "# **Komal pawar**-worked on perceptron training and testing answering related questions\n",
        "# **Bala Vidyadhar Reddy Talamanchi**-worked on logistic regression training and testing"
      ],
      "metadata": {
        "id": "72uOXcd0-Im1"
      }
    },
    {
      "cell_type": "markdown",
      "source": [
        "## Komal pawar Diabetics part-B"
      ],
      "metadata": {
        "id": "BEw--iTv-8IX"
      }
    },
    {
      "cell_type": "code",
      "execution_count": 1,
      "metadata": {
        "id": "nU2IN8SftOhS"
      },
      "outputs": [],
      "source": [
        "import numpy as np\n",
        "import pandas as pd\n",
        "import matplotlib.pyplot as plt\n",
        "import seaborn as sns\n"
      ]
    },
    {
      "cell_type": "code",
      "source": [
        "from sklearn.linear_model import Perceptron\n",
        "from sklearn.datasets import make_classification"
      ],
      "metadata": {
        "id": "qLoQlW1Bth31"
      },
      "execution_count": 2,
      "outputs": []
    },
    {
      "cell_type": "code",
      "source": [
        "from sklearn.model_selection import RepeatedKFold\n",
        "from sklearn.model_selection import cross_val_score"
      ],
      "metadata": {
        "id": "uRVxZDG5tuj2"
      },
      "execution_count": 3,
      "outputs": []
    },
    {
      "cell_type": "code",
      "source": [
        "from google.colab import files\n",
        "uploaded=files.upload()"
      ],
      "metadata": {
        "colab": {
          "resources": {
            "http://localhost:8080/nbextensions/google.colab/files.js": {
              "data": "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",
              "ok": true,
              "headers": [
                [
                  "content-type",
                  "application/javascript"
                ]
              ],
              "status": 200,
              "status_text": ""
            }
          },
          "base_uri": "https://localhost:8080/",
          "height": 73
        },
        "id": "wkMxSB9UuAxr",
        "outputId": "40382c08-5d1b-4e95-b4f0-fcd73d61e9ef"
      },
      "execution_count": 4,
      "outputs": [
        {
          "output_type": "display_data",
          "data": {
            "text/html": [
              "\n",
              "     <input type=\"file\" id=\"files-566e5c51-fb33-4ead-881a-68689cbaf62d\" name=\"files[]\" multiple disabled\n",
              "        style=\"border:none\" />\n",
              "     <output id=\"result-566e5c51-fb33-4ead-881a-68689cbaf62d\">\n",
              "      Upload widget is only available when the cell has been executed in the\n",
              "      current browser session. Please rerun this cell to enable.\n",
              "      </output>\n",
              "      <script src=\"/nbextensions/google.colab/files.js\"></script> "
            ],
            "text/plain": [
              "<IPython.core.display.HTML object>"
            ]
          },
          "metadata": {}
        },
        {
          "output_type": "stream",
          "name": "stdout",
          "text": [
            "Saving diabetes.csv to diabetes.csv\n"
          ]
        }
      ]
    },
    {
      "cell_type": "code",
      "source": [
        "import pandas as pd\n",
        "import io\n",
        "dataframe = pd.read_csv(io.BytesIO(uploaded['diabetes.csv']))\n",
        "print(dataframe)"
      ],
      "metadata": {
        "colab": {
          "base_uri": "https://localhost:8080/"
        },
        "id": "RRkroazMugJ2",
        "outputId": "2bb5dce9-189f-4dd8-9db1-38a87cf7a722"
      },
      "execution_count": 5,
      "outputs": [
        {
          "output_type": "stream",
          "name": "stdout",
          "text": [
            "     Pregnancies  Glucose  ...  Age  Outcome\n",
            "0              6      148  ...   50        1\n",
            "1              1       85  ...   31        0\n",
            "2              8      183  ...   32        1\n",
            "3              1       89  ...   21        0\n",
            "4              0      137  ...   33        1\n",
            "..           ...      ...  ...  ...      ...\n",
            "763           10      101  ...   63        0\n",
            "764            2      122  ...   27        0\n",
            "765            5      121  ...   30        0\n",
            "766            1      126  ...   47        1\n",
            "767            1       93  ...   23        0\n",
            "\n",
            "[768 rows x 9 columns]\n"
          ]
        }
      ]
    },
    {
      "cell_type": "markdown",
      "source": [
        "## Data preprocessing"
      ],
      "metadata": {
        "id": "v4nJrvsl_KRO"
      }
    },
    {
      "cell_type": "code",
      "source": [
        "dataframe.shape #Representing the dimensionality of the dataframe"
      ],
      "metadata": {
        "colab": {
          "base_uri": "https://localhost:8080/"
        },
        "id": "3UNMtYIuv7KC",
        "outputId": "8b84454f-3b48-439b-ebd2-a8934f93d094"
      },
      "execution_count": 6,
      "outputs": [
        {
          "output_type": "execute_result",
          "data": {
            "text/plain": [
              "(768, 9)"
            ]
          },
          "metadata": {},
          "execution_count": 6
        }
      ]
    },
    {
      "cell_type": "code",
      "source": [
        "dataframe.isnull()"
      ],
      "metadata": {
        "colab": {
          "base_uri": "https://localhost:8080/",
          "height": 423
        },
        "id": "klSwc029DqYA",
        "outputId": "caa74232-eca0-4a3f-cb28-ed55bef57557"
      },
      "execution_count": 37,
      "outputs": [
        {
          "output_type": "execute_result",
          "data": {
            "text/html": [
              "\n",
              "  <div id=\"df-c429190c-9d23-49ee-8a89-0f26438f93ec\">\n",
              "    <div class=\"colab-df-container\">\n",
              "      <div>\n",
              "<style scoped>\n",
              "    .dataframe tbody tr th:only-of-type {\n",
              "        vertical-align: middle;\n",
              "    }\n",
              "\n",
              "    .dataframe tbody tr th {\n",
              "        vertical-align: top;\n",
              "    }\n",
              "\n",
              "    .dataframe thead th {\n",
              "        text-align: right;\n",
              "    }\n",
              "</style>\n",
              "<table border=\"1\" class=\"dataframe\">\n",
              "  <thead>\n",
              "    <tr style=\"text-align: right;\">\n",
              "      <th></th>\n",
              "      <th>Pregnancies</th>\n",
              "      <th>Glucose</th>\n",
              "      <th>BloodPressure</th>\n",
              "      <th>SkinThickness</th>\n",
              "      <th>Insulin</th>\n",
              "      <th>BMI</th>\n",
              "      <th>DiabetesPedigreeFunction</th>\n",
              "      <th>Age</th>\n",
              "      <th>Outcome</th>\n",
              "    </tr>\n",
              "  </thead>\n",
              "  <tbody>\n",
              "    <tr>\n",
              "      <th>0</th>\n",
              "      <td>False</td>\n",
              "      <td>False</td>\n",
              "      <td>False</td>\n",
              "      <td>False</td>\n",
              "      <td>False</td>\n",
              "      <td>False</td>\n",
              "      <td>False</td>\n",
              "      <td>False</td>\n",
              "      <td>False</td>\n",
              "    </tr>\n",
              "    <tr>\n",
              "      <th>1</th>\n",
              "      <td>False</td>\n",
              "      <td>False</td>\n",
              "      <td>False</td>\n",
              "      <td>False</td>\n",
              "      <td>False</td>\n",
              "      <td>False</td>\n",
              "      <td>False</td>\n",
              "      <td>False</td>\n",
              "      <td>False</td>\n",
              "    </tr>\n",
              "    <tr>\n",
              "      <th>2</th>\n",
              "      <td>False</td>\n",
              "      <td>False</td>\n",
              "      <td>False</td>\n",
              "      <td>False</td>\n",
              "      <td>False</td>\n",
              "      <td>False</td>\n",
              "      <td>False</td>\n",
              "      <td>False</td>\n",
              "      <td>False</td>\n",
              "    </tr>\n",
              "    <tr>\n",
              "      <th>3</th>\n",
              "      <td>False</td>\n",
              "      <td>False</td>\n",
              "      <td>False</td>\n",
              "      <td>False</td>\n",
              "      <td>False</td>\n",
              "      <td>False</td>\n",
              "      <td>False</td>\n",
              "      <td>False</td>\n",
              "      <td>False</td>\n",
              "    </tr>\n",
              "    <tr>\n",
              "      <th>4</th>\n",
              "      <td>False</td>\n",
              "      <td>False</td>\n",
              "      <td>False</td>\n",
              "      <td>False</td>\n",
              "      <td>False</td>\n",
              "      <td>False</td>\n",
              "      <td>False</td>\n",
              "      <td>False</td>\n",
              "      <td>False</td>\n",
              "    </tr>\n",
              "    <tr>\n",
              "      <th>...</th>\n",
              "      <td>...</td>\n",
              "      <td>...</td>\n",
              "      <td>...</td>\n",
              "      <td>...</td>\n",
              "      <td>...</td>\n",
              "      <td>...</td>\n",
              "      <td>...</td>\n",
              "      <td>...</td>\n",
              "      <td>...</td>\n",
              "    </tr>\n",
              "    <tr>\n",
              "      <th>763</th>\n",
              "      <td>False</td>\n",
              "      <td>False</td>\n",
              "      <td>False</td>\n",
              "      <td>False</td>\n",
              "      <td>False</td>\n",
              "      <td>False</td>\n",
              "      <td>False</td>\n",
              "      <td>False</td>\n",
              "      <td>False</td>\n",
              "    </tr>\n",
              "    <tr>\n",
              "      <th>764</th>\n",
              "      <td>False</td>\n",
              "      <td>False</td>\n",
              "      <td>False</td>\n",
              "      <td>False</td>\n",
              "      <td>False</td>\n",
              "      <td>False</td>\n",
              "      <td>False</td>\n",
              "      <td>False</td>\n",
              "      <td>False</td>\n",
              "    </tr>\n",
              "    <tr>\n",
              "      <th>765</th>\n",
              "      <td>False</td>\n",
              "      <td>False</td>\n",
              "      <td>False</td>\n",
              "      <td>False</td>\n",
              "      <td>False</td>\n",
              "      <td>False</td>\n",
              "      <td>False</td>\n",
              "      <td>False</td>\n",
              "      <td>False</td>\n",
              "    </tr>\n",
              "    <tr>\n",
              "      <th>766</th>\n",
              "      <td>False</td>\n",
              "      <td>False</td>\n",
              "      <td>False</td>\n",
              "      <td>False</td>\n",
              "      <td>False</td>\n",
              "      <td>False</td>\n",
              "      <td>False</td>\n",
              "      <td>False</td>\n",
              "      <td>False</td>\n",
              "    </tr>\n",
              "    <tr>\n",
              "      <th>767</th>\n",
              "      <td>False</td>\n",
              "      <td>False</td>\n",
              "      <td>False</td>\n",
              "      <td>False</td>\n",
              "      <td>False</td>\n",
              "      <td>False</td>\n",
              "      <td>False</td>\n",
              "      <td>False</td>\n",
              "      <td>False</td>\n",
              "    </tr>\n",
              "  </tbody>\n",
              "</table>\n",
              "<p>768 rows × 9 columns</p>\n",
              "</div>\n",
              "      <button class=\"colab-df-convert\" onclick=\"convertToInteractive('df-c429190c-9d23-49ee-8a89-0f26438f93ec')\"\n",
              "              title=\"Convert this dataframe to an interactive table.\"\n",
              "              style=\"display:none;\">\n",
              "        \n",
              "  <svg xmlns=\"http://www.w3.org/2000/svg\" height=\"24px\"viewBox=\"0 0 24 24\"\n",
              "       width=\"24px\">\n",
              "    <path d=\"M0 0h24v24H0V0z\" fill=\"none\"/>\n",
              "    <path d=\"M18.56 5.44l.94 2.06.94-2.06 2.06-.94-2.06-.94-.94-2.06-.94 2.06-2.06.94zm-11 1L8.5 8.5l.94-2.06 2.06-.94-2.06-.94L8.5 2.5l-.94 2.06-2.06.94zm10 10l.94 2.06.94-2.06 2.06-.94-2.06-.94-.94-2.06-.94 2.06-2.06.94z\"/><path d=\"M17.41 7.96l-1.37-1.37c-.4-.4-.92-.59-1.43-.59-.52 0-1.04.2-1.43.59L10.3 9.45l-7.72 7.72c-.78.78-.78 2.05 0 2.83L4 21.41c.39.39.9.59 1.41.59.51 0 1.02-.2 1.41-.59l7.78-7.78 2.81-2.81c.8-.78.8-2.07 0-2.86zM5.41 20L4 18.59l7.72-7.72 1.47 1.35L5.41 20z\"/>\n",
              "  </svg>\n",
              "      </button>\n",
              "      \n",
              "  <style>\n",
              "    .colab-df-container {\n",
              "      display:flex;\n",
              "      flex-wrap:wrap;\n",
              "      gap: 12px;\n",
              "    }\n",
              "\n",
              "    .colab-df-convert {\n",
              "      background-color: #E8F0FE;\n",
              "      border: none;\n",
              "      border-radius: 50%;\n",
              "      cursor: pointer;\n",
              "      display: none;\n",
              "      fill: #1967D2;\n",
              "      height: 32px;\n",
              "      padding: 0 0 0 0;\n",
              "      width: 32px;\n",
              "    }\n",
              "\n",
              "    .colab-df-convert:hover {\n",
              "      background-color: #E2EBFA;\n",
              "      box-shadow: 0px 1px 2px rgba(60, 64, 67, 0.3), 0px 1px 3px 1px rgba(60, 64, 67, 0.15);\n",
              "      fill: #174EA6;\n",
              "    }\n",
              "\n",
              "    [theme=dark] .colab-df-convert {\n",
              "      background-color: #3B4455;\n",
              "      fill: #D2E3FC;\n",
              "    }\n",
              "\n",
              "    [theme=dark] .colab-df-convert:hover {\n",
              "      background-color: #434B5C;\n",
              "      box-shadow: 0px 1px 3px 1px rgba(0, 0, 0, 0.15);\n",
              "      filter: drop-shadow(0px 1px 2px rgba(0, 0, 0, 0.3));\n",
              "      fill: #FFFFFF;\n",
              "    }\n",
              "  </style>\n",
              "\n",
              "      <script>\n",
              "        const buttonEl =\n",
              "          document.querySelector('#df-c429190c-9d23-49ee-8a89-0f26438f93ec button.colab-df-convert');\n",
              "        buttonEl.style.display =\n",
              "          google.colab.kernel.accessAllowed ? 'block' : 'none';\n",
              "\n",
              "        async function convertToInteractive(key) {\n",
              "          const element = document.querySelector('#df-c429190c-9d23-49ee-8a89-0f26438f93ec');\n",
              "          const dataTable =\n",
              "            await google.colab.kernel.invokeFunction('convertToInteractive',\n",
              "                                                     [key], {});\n",
              "          if (!dataTable) return;\n",
              "\n",
              "          const docLinkHtml = 'Like what you see? Visit the ' +\n",
              "            '<a target=\"_blank\" href=https://colab.research.google.com/notebooks/data_table.ipynb>data table notebook</a>'\n",
              "            + ' to learn more about interactive tables.';\n",
              "          element.innerHTML = '';\n",
              "          dataTable['output_type'] = 'display_data';\n",
              "          await google.colab.output.renderOutput(dataTable, element);\n",
              "          const docLink = document.createElement('div');\n",
              "          docLink.innerHTML = docLinkHtml;\n",
              "          element.appendChild(docLink);\n",
              "        }\n",
              "      </script>\n",
              "    </div>\n",
              "  </div>\n",
              "  "
            ],
            "text/plain": [
              "     Pregnancies  Glucose  ...    Age  Outcome\n",
              "0          False    False  ...  False    False\n",
              "1          False    False  ...  False    False\n",
              "2          False    False  ...  False    False\n",
              "3          False    False  ...  False    False\n",
              "4          False    False  ...  False    False\n",
              "..           ...      ...  ...    ...      ...\n",
              "763        False    False  ...  False    False\n",
              "764        False    False  ...  False    False\n",
              "765        False    False  ...  False    False\n",
              "766        False    False  ...  False    False\n",
              "767        False    False  ...  False    False\n",
              "\n",
              "[768 rows x 9 columns]"
            ]
          },
          "metadata": {},
          "execution_count": 37
        }
      ]
    },
    {
      "cell_type": "code",
      "source": [
        "dataframe.describe()#Represents the statistical details of the dataframe"
      ],
      "metadata": {
        "colab": {
          "base_uri": "https://localhost:8080/",
          "height": 300
        },
        "id": "AvgrSmycwn2k",
        "outputId": "aa23c81e-9d07-413d-93ed-92c07762c1ff"
      },
      "execution_count": 7,
      "outputs": [
        {
          "output_type": "execute_result",
          "data": {
            "text/html": [
              "\n",
              "  <div id=\"df-641ec34e-6a8e-43ef-ac47-0466ab075866\">\n",
              "    <div class=\"colab-df-container\">\n",
              "      <div>\n",
              "<style scoped>\n",
              "    .dataframe tbody tr th:only-of-type {\n",
              "        vertical-align: middle;\n",
              "    }\n",
              "\n",
              "    .dataframe tbody tr th {\n",
              "        vertical-align: top;\n",
              "    }\n",
              "\n",
              "    .dataframe thead th {\n",
              "        text-align: right;\n",
              "    }\n",
              "</style>\n",
              "<table border=\"1\" class=\"dataframe\">\n",
              "  <thead>\n",
              "    <tr style=\"text-align: right;\">\n",
              "      <th></th>\n",
              "      <th>Pregnancies</th>\n",
              "      <th>Glucose</th>\n",
              "      <th>BloodPressure</th>\n",
              "      <th>SkinThickness</th>\n",
              "      <th>Insulin</th>\n",
              "      <th>BMI</th>\n",
              "      <th>DiabetesPedigreeFunction</th>\n",
              "      <th>Age</th>\n",
              "      <th>Outcome</th>\n",
              "    </tr>\n",
              "  </thead>\n",
              "  <tbody>\n",
              "    <tr>\n",
              "      <th>count</th>\n",
              "      <td>768.000000</td>\n",
              "      <td>768.000000</td>\n",
              "      <td>768.000000</td>\n",
              "      <td>768.000000</td>\n",
              "      <td>768.000000</td>\n",
              "      <td>768.000000</td>\n",
              "      <td>768.000000</td>\n",
              "      <td>768.000000</td>\n",
              "      <td>768.000000</td>\n",
              "    </tr>\n",
              "    <tr>\n",
              "      <th>mean</th>\n",
              "      <td>3.845052</td>\n",
              "      <td>120.894531</td>\n",
              "      <td>69.105469</td>\n",
              "      <td>20.536458</td>\n",
              "      <td>79.799479</td>\n",
              "      <td>31.992578</td>\n",
              "      <td>0.471876</td>\n",
              "      <td>33.240885</td>\n",
              "      <td>0.348958</td>\n",
              "    </tr>\n",
              "    <tr>\n",
              "      <th>std</th>\n",
              "      <td>3.369578</td>\n",
              "      <td>31.972618</td>\n",
              "      <td>19.355807</td>\n",
              "      <td>15.952218</td>\n",
              "      <td>115.244002</td>\n",
              "      <td>7.884160</td>\n",
              "      <td>0.331329</td>\n",
              "      <td>11.760232</td>\n",
              "      <td>0.476951</td>\n",
              "    </tr>\n",
              "    <tr>\n",
              "      <th>min</th>\n",
              "      <td>0.000000</td>\n",
              "      <td>0.000000</td>\n",
              "      <td>0.000000</td>\n",
              "      <td>0.000000</td>\n",
              "      <td>0.000000</td>\n",
              "      <td>0.000000</td>\n",
              "      <td>0.078000</td>\n",
              "      <td>21.000000</td>\n",
              "      <td>0.000000</td>\n",
              "    </tr>\n",
              "    <tr>\n",
              "      <th>25%</th>\n",
              "      <td>1.000000</td>\n",
              "      <td>99.000000</td>\n",
              "      <td>62.000000</td>\n",
              "      <td>0.000000</td>\n",
              "      <td>0.000000</td>\n",
              "      <td>27.300000</td>\n",
              "      <td>0.243750</td>\n",
              "      <td>24.000000</td>\n",
              "      <td>0.000000</td>\n",
              "    </tr>\n",
              "    <tr>\n",
              "      <th>50%</th>\n",
              "      <td>3.000000</td>\n",
              "      <td>117.000000</td>\n",
              "      <td>72.000000</td>\n",
              "      <td>23.000000</td>\n",
              "      <td>30.500000</td>\n",
              "      <td>32.000000</td>\n",
              "      <td>0.372500</td>\n",
              "      <td>29.000000</td>\n",
              "      <td>0.000000</td>\n",
              "    </tr>\n",
              "    <tr>\n",
              "      <th>75%</th>\n",
              "      <td>6.000000</td>\n",
              "      <td>140.250000</td>\n",
              "      <td>80.000000</td>\n",
              "      <td>32.000000</td>\n",
              "      <td>127.250000</td>\n",
              "      <td>36.600000</td>\n",
              "      <td>0.626250</td>\n",
              "      <td>41.000000</td>\n",
              "      <td>1.000000</td>\n",
              "    </tr>\n",
              "    <tr>\n",
              "      <th>max</th>\n",
              "      <td>17.000000</td>\n",
              "      <td>199.000000</td>\n",
              "      <td>122.000000</td>\n",
              "      <td>99.000000</td>\n",
              "      <td>846.000000</td>\n",
              "      <td>67.100000</td>\n",
              "      <td>2.420000</td>\n",
              "      <td>81.000000</td>\n",
              "      <td>1.000000</td>\n",
              "    </tr>\n",
              "  </tbody>\n",
              "</table>\n",
              "</div>\n",
              "      <button class=\"colab-df-convert\" onclick=\"convertToInteractive('df-641ec34e-6a8e-43ef-ac47-0466ab075866')\"\n",
              "              title=\"Convert this dataframe to an interactive table.\"\n",
              "              style=\"display:none;\">\n",
              "        \n",
              "  <svg xmlns=\"http://www.w3.org/2000/svg\" height=\"24px\"viewBox=\"0 0 24 24\"\n",
              "       width=\"24px\">\n",
              "    <path d=\"M0 0h24v24H0V0z\" fill=\"none\"/>\n",
              "    <path d=\"M18.56 5.44l.94 2.06.94-2.06 2.06-.94-2.06-.94-.94-2.06-.94 2.06-2.06.94zm-11 1L8.5 8.5l.94-2.06 2.06-.94-2.06-.94L8.5 2.5l-.94 2.06-2.06.94zm10 10l.94 2.06.94-2.06 2.06-.94-2.06-.94-.94-2.06-.94 2.06-2.06.94z\"/><path d=\"M17.41 7.96l-1.37-1.37c-.4-.4-.92-.59-1.43-.59-.52 0-1.04.2-1.43.59L10.3 9.45l-7.72 7.72c-.78.78-.78 2.05 0 2.83L4 21.41c.39.39.9.59 1.41.59.51 0 1.02-.2 1.41-.59l7.78-7.78 2.81-2.81c.8-.78.8-2.07 0-2.86zM5.41 20L4 18.59l7.72-7.72 1.47 1.35L5.41 20z\"/>\n",
              "  </svg>\n",
              "      </button>\n",
              "      \n",
              "  <style>\n",
              "    .colab-df-container {\n",
              "      display:flex;\n",
              "      flex-wrap:wrap;\n",
              "      gap: 12px;\n",
              "    }\n",
              "\n",
              "    .colab-df-convert {\n",
              "      background-color: #E8F0FE;\n",
              "      border: none;\n",
              "      border-radius: 50%;\n",
              "      cursor: pointer;\n",
              "      display: none;\n",
              "      fill: #1967D2;\n",
              "      height: 32px;\n",
              "      padding: 0 0 0 0;\n",
              "      width: 32px;\n",
              "    }\n",
              "\n",
              "    .colab-df-convert:hover {\n",
              "      background-color: #E2EBFA;\n",
              "      box-shadow: 0px 1px 2px rgba(60, 64, 67, 0.3), 0px 1px 3px 1px rgba(60, 64, 67, 0.15);\n",
              "      fill: #174EA6;\n",
              "    }\n",
              "\n",
              "    [theme=dark] .colab-df-convert {\n",
              "      background-color: #3B4455;\n",
              "      fill: #D2E3FC;\n",
              "    }\n",
              "\n",
              "    [theme=dark] .colab-df-convert:hover {\n",
              "      background-color: #434B5C;\n",
              "      box-shadow: 0px 1px 3px 1px rgba(0, 0, 0, 0.15);\n",
              "      filter: drop-shadow(0px 1px 2px rgba(0, 0, 0, 0.3));\n",
              "      fill: #FFFFFF;\n",
              "    }\n",
              "  </style>\n",
              "\n",
              "      <script>\n",
              "        const buttonEl =\n",
              "          document.querySelector('#df-641ec34e-6a8e-43ef-ac47-0466ab075866 button.colab-df-convert');\n",
              "        buttonEl.style.display =\n",
              "          google.colab.kernel.accessAllowed ? 'block' : 'none';\n",
              "\n",
              "        async function convertToInteractive(key) {\n",
              "          const element = document.querySelector('#df-641ec34e-6a8e-43ef-ac47-0466ab075866');\n",
              "          const dataTable =\n",
              "            await google.colab.kernel.invokeFunction('convertToInteractive',\n",
              "                                                     [key], {});\n",
              "          if (!dataTable) return;\n",
              "\n",
              "          const docLinkHtml = 'Like what you see? Visit the ' +\n",
              "            '<a target=\"_blank\" href=https://colab.research.google.com/notebooks/data_table.ipynb>data table notebook</a>'\n",
              "            + ' to learn more about interactive tables.';\n",
              "          element.innerHTML = '';\n",
              "          dataTable['output_type'] = 'display_data';\n",
              "          await google.colab.output.renderOutput(dataTable, element);\n",
              "          const docLink = document.createElement('div');\n",
              "          docLink.innerHTML = docLinkHtml;\n",
              "          element.appendChild(docLink);\n",
              "        }\n",
              "      </script>\n",
              "    </div>\n",
              "  </div>\n",
              "  "
            ],
            "text/plain": [
              "       Pregnancies     Glucose  ...         Age     Outcome\n",
              "count   768.000000  768.000000  ...  768.000000  768.000000\n",
              "mean      3.845052  120.894531  ...   33.240885    0.348958\n",
              "std       3.369578   31.972618  ...   11.760232    0.476951\n",
              "min       0.000000    0.000000  ...   21.000000    0.000000\n",
              "25%       1.000000   99.000000  ...   24.000000    0.000000\n",
              "50%       3.000000  117.000000  ...   29.000000    0.000000\n",
              "75%       6.000000  140.250000  ...   41.000000    1.000000\n",
              "max      17.000000  199.000000  ...   81.000000    1.000000\n",
              "\n",
              "[8 rows x 9 columns]"
            ]
          },
          "metadata": {},
          "execution_count": 7
        }
      ]
    },
    {
      "cell_type": "code",
      "source": [
        "dataframe.isnull().sum()#Returns the number of null values in the dataframe"
      ],
      "metadata": {
        "colab": {
          "base_uri": "https://localhost:8080/"
        },
        "id": "6U2fjvL2w0AO",
        "outputId": "d4b4b5ef-70cd-4b9b-c8cd-4666423c3735"
      },
      "execution_count": 9,
      "outputs": [
        {
          "output_type": "execute_result",
          "data": {
            "text/plain": [
              "Pregnancies                 0\n",
              "Glucose                     0\n",
              "BloodPressure               0\n",
              "SkinThickness               0\n",
              "Insulin                     0\n",
              "BMI                         0\n",
              "DiabetesPedigreeFunction    0\n",
              "Age                         0\n",
              "Outcome                     0\n",
              "dtype: int64"
            ]
          },
          "metadata": {},
          "execution_count": 9
        }
      ]
    },
    {
      "cell_type": "code",
      "source": [
        "dataframe.info()#Prints the information of dataframe"
      ],
      "metadata": {
        "colab": {
          "base_uri": "https://localhost:8080/"
        },
        "id": "xiRdAlYXw5D5",
        "outputId": "13e4a36a-8e66-486c-c860-ce89ff1d05cc"
      },
      "execution_count": 10,
      "outputs": [
        {
          "output_type": "stream",
          "name": "stdout",
          "text": [
            "<class 'pandas.core.frame.DataFrame'>\n",
            "RangeIndex: 768 entries, 0 to 767\n",
            "Data columns (total 9 columns):\n",
            " #   Column                    Non-Null Count  Dtype  \n",
            "---  ------                    --------------  -----  \n",
            " 0   Pregnancies               768 non-null    int64  \n",
            " 1   Glucose                   768 non-null    int64  \n",
            " 2   BloodPressure             768 non-null    int64  \n",
            " 3   SkinThickness             768 non-null    int64  \n",
            " 4   Insulin                   768 non-null    int64  \n",
            " 5   BMI                       768 non-null    float64\n",
            " 6   DiabetesPedigreeFunction  768 non-null    float64\n",
            " 7   Age                       768 non-null    int64  \n",
            " 8   Outcome                   768 non-null    int64  \n",
            "dtypes: float64(2), int64(7)\n",
            "memory usage: 54.1 KB\n"
          ]
        }
      ]
    },
    {
      "cell_type": "code",
      "source": [
        "dataframe.corr()#describes the correlation of the columns in the dataframe"
      ],
      "metadata": {
        "colab": {
          "base_uri": "https://localhost:8080/",
          "height": 331
        },
        "id": "Dd6wXXUCx1oc",
        "outputId": "b5eddd37-cd22-4c48-ace1-6546820e3726"
      },
      "execution_count": 11,
      "outputs": [
        {
          "output_type": "execute_result",
          "data": {
            "text/html": [
              "\n",
              "  <div id=\"df-62b68619-212d-401b-98cc-1506cbc72ad4\">\n",
              "    <div class=\"colab-df-container\">\n",
              "      <div>\n",
              "<style scoped>\n",
              "    .dataframe tbody tr th:only-of-type {\n",
              "        vertical-align: middle;\n",
              "    }\n",
              "\n",
              "    .dataframe tbody tr th {\n",
              "        vertical-align: top;\n",
              "    }\n",
              "\n",
              "    .dataframe thead th {\n",
              "        text-align: right;\n",
              "    }\n",
              "</style>\n",
              "<table border=\"1\" class=\"dataframe\">\n",
              "  <thead>\n",
              "    <tr style=\"text-align: right;\">\n",
              "      <th></th>\n",
              "      <th>Pregnancies</th>\n",
              "      <th>Glucose</th>\n",
              "      <th>BloodPressure</th>\n",
              "      <th>SkinThickness</th>\n",
              "      <th>Insulin</th>\n",
              "      <th>BMI</th>\n",
              "      <th>DiabetesPedigreeFunction</th>\n",
              "      <th>Age</th>\n",
              "      <th>Outcome</th>\n",
              "    </tr>\n",
              "  </thead>\n",
              "  <tbody>\n",
              "    <tr>\n",
              "      <th>Pregnancies</th>\n",
              "      <td>1.000000</td>\n",
              "      <td>0.129459</td>\n",
              "      <td>0.141282</td>\n",
              "      <td>-0.081672</td>\n",
              "      <td>-0.073535</td>\n",
              "      <td>0.017683</td>\n",
              "      <td>-0.033523</td>\n",
              "      <td>0.544341</td>\n",
              "      <td>0.221898</td>\n",
              "    </tr>\n",
              "    <tr>\n",
              "      <th>Glucose</th>\n",
              "      <td>0.129459</td>\n",
              "      <td>1.000000</td>\n",
              "      <td>0.152590</td>\n",
              "      <td>0.057328</td>\n",
              "      <td>0.331357</td>\n",
              "      <td>0.221071</td>\n",
              "      <td>0.137337</td>\n",
              "      <td>0.263514</td>\n",
              "      <td>0.466581</td>\n",
              "    </tr>\n",
              "    <tr>\n",
              "      <th>BloodPressure</th>\n",
              "      <td>0.141282</td>\n",
              "      <td>0.152590</td>\n",
              "      <td>1.000000</td>\n",
              "      <td>0.207371</td>\n",
              "      <td>0.088933</td>\n",
              "      <td>0.281805</td>\n",
              "      <td>0.041265</td>\n",
              "      <td>0.239528</td>\n",
              "      <td>0.065068</td>\n",
              "    </tr>\n",
              "    <tr>\n",
              "      <th>SkinThickness</th>\n",
              "      <td>-0.081672</td>\n",
              "      <td>0.057328</td>\n",
              "      <td>0.207371</td>\n",
              "      <td>1.000000</td>\n",
              "      <td>0.436783</td>\n",
              "      <td>0.392573</td>\n",
              "      <td>0.183928</td>\n",
              "      <td>-0.113970</td>\n",
              "      <td>0.074752</td>\n",
              "    </tr>\n",
              "    <tr>\n",
              "      <th>Insulin</th>\n",
              "      <td>-0.073535</td>\n",
              "      <td>0.331357</td>\n",
              "      <td>0.088933</td>\n",
              "      <td>0.436783</td>\n",
              "      <td>1.000000</td>\n",
              "      <td>0.197859</td>\n",
              "      <td>0.185071</td>\n",
              "      <td>-0.042163</td>\n",
              "      <td>0.130548</td>\n",
              "    </tr>\n",
              "    <tr>\n",
              "      <th>BMI</th>\n",
              "      <td>0.017683</td>\n",
              "      <td>0.221071</td>\n",
              "      <td>0.281805</td>\n",
              "      <td>0.392573</td>\n",
              "      <td>0.197859</td>\n",
              "      <td>1.000000</td>\n",
              "      <td>0.140647</td>\n",
              "      <td>0.036242</td>\n",
              "      <td>0.292695</td>\n",
              "    </tr>\n",
              "    <tr>\n",
              "      <th>DiabetesPedigreeFunction</th>\n",
              "      <td>-0.033523</td>\n",
              "      <td>0.137337</td>\n",
              "      <td>0.041265</td>\n",
              "      <td>0.183928</td>\n",
              "      <td>0.185071</td>\n",
              "      <td>0.140647</td>\n",
              "      <td>1.000000</td>\n",
              "      <td>0.033561</td>\n",
              "      <td>0.173844</td>\n",
              "    </tr>\n",
              "    <tr>\n",
              "      <th>Age</th>\n",
              "      <td>0.544341</td>\n",
              "      <td>0.263514</td>\n",
              "      <td>0.239528</td>\n",
              "      <td>-0.113970</td>\n",
              "      <td>-0.042163</td>\n",
              "      <td>0.036242</td>\n",
              "      <td>0.033561</td>\n",
              "      <td>1.000000</td>\n",
              "      <td>0.238356</td>\n",
              "    </tr>\n",
              "    <tr>\n",
              "      <th>Outcome</th>\n",
              "      <td>0.221898</td>\n",
              "      <td>0.466581</td>\n",
              "      <td>0.065068</td>\n",
              "      <td>0.074752</td>\n",
              "      <td>0.130548</td>\n",
              "      <td>0.292695</td>\n",
              "      <td>0.173844</td>\n",
              "      <td>0.238356</td>\n",
              "      <td>1.000000</td>\n",
              "    </tr>\n",
              "  </tbody>\n",
              "</table>\n",
              "</div>\n",
              "      <button class=\"colab-df-convert\" onclick=\"convertToInteractive('df-62b68619-212d-401b-98cc-1506cbc72ad4')\"\n",
              "              title=\"Convert this dataframe to an interactive table.\"\n",
              "              style=\"display:none;\">\n",
              "        \n",
              "  <svg xmlns=\"http://www.w3.org/2000/svg\" height=\"24px\"viewBox=\"0 0 24 24\"\n",
              "       width=\"24px\">\n",
              "    <path d=\"M0 0h24v24H0V0z\" fill=\"none\"/>\n",
              "    <path d=\"M18.56 5.44l.94 2.06.94-2.06 2.06-.94-2.06-.94-.94-2.06-.94 2.06-2.06.94zm-11 1L8.5 8.5l.94-2.06 2.06-.94-2.06-.94L8.5 2.5l-.94 2.06-2.06.94zm10 10l.94 2.06.94-2.06 2.06-.94-2.06-.94-.94-2.06-.94 2.06-2.06.94z\"/><path d=\"M17.41 7.96l-1.37-1.37c-.4-.4-.92-.59-1.43-.59-.52 0-1.04.2-1.43.59L10.3 9.45l-7.72 7.72c-.78.78-.78 2.05 0 2.83L4 21.41c.39.39.9.59 1.41.59.51 0 1.02-.2 1.41-.59l7.78-7.78 2.81-2.81c.8-.78.8-2.07 0-2.86zM5.41 20L4 18.59l7.72-7.72 1.47 1.35L5.41 20z\"/>\n",
              "  </svg>\n",
              "      </button>\n",
              "      \n",
              "  <style>\n",
              "    .colab-df-container {\n",
              "      display:flex;\n",
              "      flex-wrap:wrap;\n",
              "      gap: 12px;\n",
              "    }\n",
              "\n",
              "    .colab-df-convert {\n",
              "      background-color: #E8F0FE;\n",
              "      border: none;\n",
              "      border-radius: 50%;\n",
              "      cursor: pointer;\n",
              "      display: none;\n",
              "      fill: #1967D2;\n",
              "      height: 32px;\n",
              "      padding: 0 0 0 0;\n",
              "      width: 32px;\n",
              "    }\n",
              "\n",
              "    .colab-df-convert:hover {\n",
              "      background-color: #E2EBFA;\n",
              "      box-shadow: 0px 1px 2px rgba(60, 64, 67, 0.3), 0px 1px 3px 1px rgba(60, 64, 67, 0.15);\n",
              "      fill: #174EA6;\n",
              "    }\n",
              "\n",
              "    [theme=dark] .colab-df-convert {\n",
              "      background-color: #3B4455;\n",
              "      fill: #D2E3FC;\n",
              "    }\n",
              "\n",
              "    [theme=dark] .colab-df-convert:hover {\n",
              "      background-color: #434B5C;\n",
              "      box-shadow: 0px 1px 3px 1px rgba(0, 0, 0, 0.15);\n",
              "      filter: drop-shadow(0px 1px 2px rgba(0, 0, 0, 0.3));\n",
              "      fill: #FFFFFF;\n",
              "    }\n",
              "  </style>\n",
              "\n",
              "      <script>\n",
              "        const buttonEl =\n",
              "          document.querySelector('#df-62b68619-212d-401b-98cc-1506cbc72ad4 button.colab-df-convert');\n",
              "        buttonEl.style.display =\n",
              "          google.colab.kernel.accessAllowed ? 'block' : 'none';\n",
              "\n",
              "        async function convertToInteractive(key) {\n",
              "          const element = document.querySelector('#df-62b68619-212d-401b-98cc-1506cbc72ad4');\n",
              "          const dataTable =\n",
              "            await google.colab.kernel.invokeFunction('convertToInteractive',\n",
              "                                                     [key], {});\n",
              "          if (!dataTable) return;\n",
              "\n",
              "          const docLinkHtml = 'Like what you see? Visit the ' +\n",
              "            '<a target=\"_blank\" href=https://colab.research.google.com/notebooks/data_table.ipynb>data table notebook</a>'\n",
              "            + ' to learn more about interactive tables.';\n",
              "          element.innerHTML = '';\n",
              "          dataTable['output_type'] = 'display_data';\n",
              "          await google.colab.output.renderOutput(dataTable, element);\n",
              "          const docLink = document.createElement('div');\n",
              "          docLink.innerHTML = docLinkHtml;\n",
              "          element.appendChild(docLink);\n",
              "        }\n",
              "      </script>\n",
              "    </div>\n",
              "  </div>\n",
              "  "
            ],
            "text/plain": [
              "                          Pregnancies   Glucose  ...       Age   Outcome\n",
              "Pregnancies                  1.000000  0.129459  ...  0.544341  0.221898\n",
              "Glucose                      0.129459  1.000000  ...  0.263514  0.466581\n",
              "BloodPressure                0.141282  0.152590  ...  0.239528  0.065068\n",
              "SkinThickness               -0.081672  0.057328  ... -0.113970  0.074752\n",
              "Insulin                     -0.073535  0.331357  ... -0.042163  0.130548\n",
              "BMI                          0.017683  0.221071  ...  0.036242  0.292695\n",
              "DiabetesPedigreeFunction    -0.033523  0.137337  ...  0.033561  0.173844\n",
              "Age                          0.544341  0.263514  ...  1.000000  0.238356\n",
              "Outcome                      0.221898  0.466581  ...  0.238356  1.000000\n",
              "\n",
              "[9 rows x 9 columns]"
            ]
          },
          "metadata": {},
          "execution_count": 11
        }
      ]
    },
    {
      "cell_type": "code",
      "source": [
        "dataframe.boxplot(figsize=(10,7))\n",
        "plt.show()\n"
      ],
      "metadata": {
        "colab": {
          "base_uri": "https://localhost:8080/",
          "height": 428
        },
        "id": "hAWrF_0Fx56Q",
        "outputId": "64a2153c-0464-4d6d-de20-b84334af48cf"
      },
      "execution_count": 12,
      "outputs": [
        {
          "output_type": "display_data",
          "data": {
            "image/png": "[encoded data removed]",
            "text/plain": [
              "<Figure size 720x504 with 1 Axes>"
            ]
          },
          "metadata": {
            "needs_background": "light"
          }
        }
      ]
    },
    {
      "cell_type": "code",
      "source": [
        "X = dataframe.drop('Outcome',axis=1)#dropping the column Outcome\n",
        "y = dataframe['Outcome']"
      ],
      "metadata": {
        "id": "KLqHO3C8ydIG"
      },
      "execution_count": 13,
      "outputs": []
    },
    {
      "cell_type": "code",
      "source": [
        "print(X)"
      ],
      "metadata": {
        "colab": {
          "base_uri": "https://localhost:8080/"
        },
        "id": "0F4ilXk3yqS9",
        "outputId": "ccdf3a7a-dbbf-4d94-8846-27a4be8118f1"
      },
      "execution_count": 14,
      "outputs": [
        {
          "output_type": "stream",
          "name": "stdout",
          "text": [
            "     Pregnancies  Glucose  BloodPressure  ...   BMI  DiabetesPedigreeFunction  Age\n",
            "0              6      148             72  ...  33.6                     0.627   50\n",
            "1              1       85             66  ...  26.6                     0.351   31\n",
            "2              8      183             64  ...  23.3                     0.672   32\n",
            "3              1       89             66  ...  28.1                     0.167   21\n",
            "4              0      137             40  ...  43.1                     2.288   33\n",
            "..           ...      ...            ...  ...   ...                       ...  ...\n",
            "763           10      101             76  ...  32.9                     0.171   63\n",
            "764            2      122             70  ...  36.8                     0.340   27\n",
            "765            5      121             72  ...  26.2                     0.245   30\n",
            "766            1      126             60  ...  30.1                     0.349   47\n",
            "767            1       93             70  ...  30.4                     0.315   23\n",
            "\n",
            "[768 rows x 8 columns]\n"
          ]
        }
      ]
    },
    {
      "cell_type": "code",
      "source": [
        "X.describe()#describing the statistical information after removing the column"
      ],
      "metadata": {
        "colab": {
          "base_uri": "https://localhost:8080/",
          "height": 300
        },
        "id": "bvXj8riZyr0r",
        "outputId": "0fbf85b0-aa4e-4f72-81cb-d23cf3752bab"
      },
      "execution_count": 15,
      "outputs": [
        {
          "output_type": "execute_result",
          "data": {
            "text/html": [
              "\n",
              "  <div id=\"df-c5b62e5e-97ab-4cf2-9212-72f384953e06\">\n",
              "    <div class=\"colab-df-container\">\n",
              "      <div>\n",
              "<style scoped>\n",
              "    .dataframe tbody tr th:only-of-type {\n",
              "        vertical-align: middle;\n",
              "    }\n",
              "\n",
              "    .dataframe tbody tr th {\n",
              "        vertical-align: top;\n",
              "    }\n",
              "\n",
              "    .dataframe thead th {\n",
              "        text-align: right;\n",
              "    }\n",
              "</style>\n",
              "<table border=\"1\" class=\"dataframe\">\n",
              "  <thead>\n",
              "    <tr style=\"text-align: right;\">\n",
              "      <th></th>\n",
              "      <th>Pregnancies</th>\n",
              "      <th>Glucose</th>\n",
              "      <th>BloodPressure</th>\n",
              "      <th>SkinThickness</th>\n",
              "      <th>Insulin</th>\n",
              "      <th>BMI</th>\n",
              "      <th>DiabetesPedigreeFunction</th>\n",
              "      <th>Age</th>\n",
              "    </tr>\n",
              "  </thead>\n",
              "  <tbody>\n",
              "    <tr>\n",
              "      <th>count</th>\n",
              "      <td>768.000000</td>\n",
              "      <td>768.000000</td>\n",
              "      <td>768.000000</td>\n",
              "      <td>768.000000</td>\n",
              "      <td>768.000000</td>\n",
              "      <td>768.000000</td>\n",
              "      <td>768.000000</td>\n",
              "      <td>768.000000</td>\n",
              "    </tr>\n",
              "    <tr>\n",
              "      <th>mean</th>\n",
              "      <td>3.845052</td>\n",
              "      <td>120.894531</td>\n",
              "      <td>69.105469</td>\n",
              "      <td>20.536458</td>\n",
              "      <td>79.799479</td>\n",
              "      <td>31.992578</td>\n",
              "      <td>0.471876</td>\n",
              "      <td>33.240885</td>\n",
              "    </tr>\n",
              "    <tr>\n",
              "      <th>std</th>\n",
              "      <td>3.369578</td>\n",
              "      <td>31.972618</td>\n",
              "      <td>19.355807</td>\n",
              "      <td>15.952218</td>\n",
              "      <td>115.244002</td>\n",
              "      <td>7.884160</td>\n",
              "      <td>0.331329</td>\n",
              "      <td>11.760232</td>\n",
              "    </tr>\n",
              "    <tr>\n",
              "      <th>min</th>\n",
              "      <td>0.000000</td>\n",
              "      <td>0.000000</td>\n",
              "      <td>0.000000</td>\n",
              "      <td>0.000000</td>\n",
              "      <td>0.000000</td>\n",
              "      <td>0.000000</td>\n",
              "      <td>0.078000</td>\n",
              "      <td>21.000000</td>\n",
              "    </tr>\n",
              "    <tr>\n",
              "      <th>25%</th>\n",
              "      <td>1.000000</td>\n",
              "      <td>99.000000</td>\n",
              "      <td>62.000000</td>\n",
              "      <td>0.000000</td>\n",
              "      <td>0.000000</td>\n",
              "      <td>27.300000</td>\n",
              "      <td>0.243750</td>\n",
              "      <td>24.000000</td>\n",
              "    </tr>\n",
              "    <tr>\n",
              "      <th>50%</th>\n",
              "      <td>3.000000</td>\n",
              "      <td>117.000000</td>\n",
              "      <td>72.000000</td>\n",
              "      <td>23.000000</td>\n",
              "      <td>30.500000</td>\n",
              "      <td>32.000000</td>\n",
              "      <td>0.372500</td>\n",
              "      <td>29.000000</td>\n",
              "    </tr>\n",
              "    <tr>\n",
              "      <th>75%</th>\n",
              "      <td>6.000000</td>\n",
              "      <td>140.250000</td>\n",
              "      <td>80.000000</td>\n",
              "      <td>32.000000</td>\n",
              "      <td>127.250000</td>\n",
              "      <td>36.600000</td>\n",
              "      <td>0.626250</td>\n",
              "      <td>41.000000</td>\n",
              "    </tr>\n",
              "    <tr>\n",
              "      <th>max</th>\n",
              "      <td>17.000000</td>\n",
              "      <td>199.000000</td>\n",
              "      <td>122.000000</td>\n",
              "      <td>99.000000</td>\n",
              "      <td>846.000000</td>\n",
              "      <td>67.100000</td>\n",
              "      <td>2.420000</td>\n",
              "      <td>81.000000</td>\n",
              "    </tr>\n",
              "  </tbody>\n",
              "</table>\n",
              "</div>\n",
              "      <button class=\"colab-df-convert\" onclick=\"convertToInteractive('df-c5b62e5e-97ab-4cf2-9212-72f384953e06')\"\n",
              "              title=\"Convert this dataframe to an interactive table.\"\n",
              "              style=\"display:none;\">\n",
              "        \n",
              "  <svg xmlns=\"http://www.w3.org/2000/svg\" height=\"24px\"viewBox=\"0 0 24 24\"\n",
              "       width=\"24px\">\n",
              "    <path d=\"M0 0h24v24H0V0z\" fill=\"none\"/>\n",
              "    <path d=\"M18.56 5.44l.94 2.06.94-2.06 2.06-.94-2.06-.94-.94-2.06-.94 2.06-2.06.94zm-11 1L8.5 8.5l.94-2.06 2.06-.94-2.06-.94L8.5 2.5l-.94 2.06-2.06.94zm10 10l.94 2.06.94-2.06 2.06-.94-2.06-.94-.94-2.06-.94 2.06-2.06.94z\"/><path d=\"M17.41 7.96l-1.37-1.37c-.4-.4-.92-.59-1.43-.59-.52 0-1.04.2-1.43.59L10.3 9.45l-7.72 7.72c-.78.78-.78 2.05 0 2.83L4 21.41c.39.39.9.59 1.41.59.51 0 1.02-.2 1.41-.59l7.78-7.78 2.81-2.81c.8-.78.8-2.07 0-2.86zM5.41 20L4 18.59l7.72-7.72 1.47 1.35L5.41 20z\"/>\n",
              "  </svg>\n",
              "      </button>\n",
              "      \n",
              "  <style>\n",
              "    .colab-df-container {\n",
              "      display:flex;\n",
              "      flex-wrap:wrap;\n",
              "      gap: 12px;\n",
              "    }\n",
              "\n",
              "    .colab-df-convert {\n",
              "      background-color: #E8F0FE;\n",
              "      border: none;\n",
              "      border-radius: 50%;\n",
              "      cursor: pointer;\n",
              "      display: none;\n",
              "      fill: #1967D2;\n",
              "      height: 32px;\n",
              "      padding: 0 0 0 0;\n",
              "      width: 32px;\n",
              "    }\n",
              "\n",
              "    .colab-df-convert:hover {\n",
              "      background-color: #E2EBFA;\n",
              "      box-shadow: 0px 1px 2px rgba(60, 64, 67, 0.3), 0px 1px 3px 1px rgba(60, 64, 67, 0.15);\n",
              "      fill: #174EA6;\n",
              "    }\n",
              "\n",
              "    [theme=dark] .colab-df-convert {\n",
              "      background-color: #3B4455;\n",
              "      fill: #D2E3FC;\n",
              "    }\n",
              "\n",
              "    [theme=dark] .colab-df-convert:hover {\n",
              "      background-color: #434B5C;\n",
              "      box-shadow: 0px 1px 3px 1px rgba(0, 0, 0, 0.15);\n",
              "      filter: drop-shadow(0px 1px 2px rgba(0, 0, 0, 0.3));\n",
              "      fill: #FFFFFF;\n",
              "    }\n",
              "  </style>\n",
              "\n",
              "      <script>\n",
              "        const buttonEl =\n",
              "          document.querySelector('#df-c5b62e5e-97ab-4cf2-9212-72f384953e06 button.colab-df-convert');\n",
              "        buttonEl.style.display =\n",
              "          google.colab.kernel.accessAllowed ? 'block' : 'none';\n",
              "\n",
              "        async function convertToInteractive(key) {\n",
              "          const element = document.querySelector('#df-c5b62e5e-97ab-4cf2-9212-72f384953e06');\n",
              "          const dataTable =\n",
              "            await google.colab.kernel.invokeFunction('convertToInteractive',\n",
              "                                                     [key], {});\n",
              "          if (!dataTable) return;\n",
              "\n",
              "          const docLinkHtml = 'Like what you see? Visit the ' +\n",
              "            '<a target=\"_blank\" href=https://colab.research.google.com/notebooks/data_table.ipynb>data table notebook</a>'\n",
              "            + ' to learn more about interactive tables.';\n",
              "          element.innerHTML = '';\n",
              "          dataTable['output_type'] = 'display_data';\n",
              "          await google.colab.output.renderOutput(dataTable, element);\n",
              "          const docLink = document.createElement('div');\n",
              "          docLink.innerHTML = docLinkHtml;\n",
              "          element.appendChild(docLink);\n",
              "        }\n",
              "      </script>\n",
              "    </div>\n",
              "  </div>\n",
              "  "
            ],
            "text/plain": [
              "       Pregnancies     Glucose  ...  DiabetesPedigreeFunction         Age\n",
              "count   768.000000  768.000000  ...                768.000000  768.000000\n",
              "mean      3.845052  120.894531  ...                  0.471876   33.240885\n",
              "std       3.369578   31.972618  ...                  0.331329   11.760232\n",
              "min       0.000000    0.000000  ...                  0.078000   21.000000\n",
              "25%       1.000000   99.000000  ...                  0.243750   24.000000\n",
              "50%       3.000000  117.000000  ...                  0.372500   29.000000\n",
              "75%       6.000000  140.250000  ...                  0.626250   41.000000\n",
              "max      17.000000  199.000000  ...                  2.420000   81.000000\n",
              "\n",
              "[8 rows x 8 columns]"
            ]
          },
          "metadata": {},
          "execution_count": 15
        }
      ]
    },
    {
      "cell_type": "code",
      "source": [
        "X.info()#describing the information of the dataframe after removing the outcome column"
      ],
      "metadata": {
        "colab": {
          "base_uri": "https://localhost:8080/"
        },
        "id": "BeZzwjn0yun4",
        "outputId": "149123a6-4bc8-43d1-c82e-8843a18dc137"
      },
      "execution_count": 16,
      "outputs": [
        {
          "output_type": "stream",
          "name": "stdout",
          "text": [
            "<class 'pandas.core.frame.DataFrame'>\n",
            "RangeIndex: 768 entries, 0 to 767\n",
            "Data columns (total 8 columns):\n",
            " #   Column                    Non-Null Count  Dtype  \n",
            "---  ------                    --------------  -----  \n",
            " 0   Pregnancies               768 non-null    int64  \n",
            " 1   Glucose                   768 non-null    int64  \n",
            " 2   BloodPressure             768 non-null    int64  \n",
            " 3   SkinThickness             768 non-null    int64  \n",
            " 4   Insulin                   768 non-null    int64  \n",
            " 5   BMI                       768 non-null    float64\n",
            " 6   DiabetesPedigreeFunction  768 non-null    float64\n",
            " 7   Age                       768 non-null    int64  \n",
            "dtypes: float64(2), int64(6)\n",
            "memory usage: 48.1 KB\n"
          ]
        }
      ]
    },
    {
      "cell_type": "code",
      "source": [
        "df_new = X.replace(to_replace=0,value=X.mean())#creating new column replacing it with mean values"
      ],
      "metadata": {
        "id": "rnvUm4wfyvoH"
      },
      "execution_count": 17,
      "outputs": []
    },
    {
      "cell_type": "code",
      "source": [
        "df_new"
      ],
      "metadata": {
        "colab": {
          "base_uri": "https://localhost:8080/",
          "height": 423
        },
        "id": "qQ06uOuOy6hO",
        "outputId": "f5f29910-3179-4b74-e1e1-629347cdb4ff"
      },
      "execution_count": 18,
      "outputs": [
        {
          "output_type": "execute_result",
          "data": {
            "text/html": [
              "\n",
              "  <div id=\"df-a0811f66-e8d1-46b9-bae6-b9e08b080829\">\n",
              "    <div class=\"colab-df-container\">\n",
              "      <div>\n",
              "<style scoped>\n",
              "    .dataframe tbody tr th:only-of-type {\n",
              "        vertical-align: middle;\n",
              "    }\n",
              "\n",
              "    .dataframe tbody tr th {\n",
              "        vertical-align: top;\n",
              "    }\n",
              "\n",
              "    .dataframe thead th {\n",
              "        text-align: right;\n",
              "    }\n",
              "</style>\n",
              "<table border=\"1\" class=\"dataframe\">\n",
              "  <thead>\n",
              "    <tr style=\"text-align: right;\">\n",
              "      <th></th>\n",
              "      <th>Pregnancies</th>\n",
              "      <th>Glucose</th>\n",
              "      <th>BloodPressure</th>\n",
              "      <th>SkinThickness</th>\n",
              "      <th>Insulin</th>\n",
              "      <th>BMI</th>\n",
              "      <th>DiabetesPedigreeFunction</th>\n",
              "      <th>Age</th>\n",
              "    </tr>\n",
              "  </thead>\n",
              "  <tbody>\n",
              "    <tr>\n",
              "      <th>0</th>\n",
              "      <td>6.000000</td>\n",
              "      <td>148.0</td>\n",
              "      <td>72.0</td>\n",
              "      <td>35.000000</td>\n",
              "      <td>79.799479</td>\n",
              "      <td>33.6</td>\n",
              "      <td>0.627</td>\n",
              "      <td>50</td>\n",
              "    </tr>\n",
              "    <tr>\n",
              "      <th>1</th>\n",
              "      <td>1.000000</td>\n",
              "      <td>85.0</td>\n",
              "      <td>66.0</td>\n",
              "      <td>29.000000</td>\n",
              "      <td>79.799479</td>\n",
              "      <td>26.6</td>\n",
              "      <td>0.351</td>\n",
              "      <td>31</td>\n",
              "    </tr>\n",
              "    <tr>\n",
              "      <th>2</th>\n",
              "      <td>8.000000</td>\n",
              "      <td>183.0</td>\n",
              "      <td>64.0</td>\n",
              "      <td>20.536458</td>\n",
              "      <td>79.799479</td>\n",
              "      <td>23.3</td>\n",
              "      <td>0.672</td>\n",
              "      <td>32</td>\n",
              "    </tr>\n",
              "    <tr>\n",
              "      <th>3</th>\n",
              "      <td>1.000000</td>\n",
              "      <td>89.0</td>\n",
              "      <td>66.0</td>\n",
              "      <td>23.000000</td>\n",
              "      <td>94.000000</td>\n",
              "      <td>28.1</td>\n",
              "      <td>0.167</td>\n",
              "      <td>21</td>\n",
              "    </tr>\n",
              "    <tr>\n",
              "      <th>4</th>\n",
              "      <td>3.845052</td>\n",
              "      <td>137.0</td>\n",
              "      <td>40.0</td>\n",
              "      <td>35.000000</td>\n",
              "      <td>168.000000</td>\n",
              "      <td>43.1</td>\n",
              "      <td>2.288</td>\n",
              "      <td>33</td>\n",
              "    </tr>\n",
              "    <tr>\n",
              "      <th>...</th>\n",
              "      <td>...</td>\n",
              "      <td>...</td>\n",
              "      <td>...</td>\n",
              "      <td>...</td>\n",
              "      <td>...</td>\n",
              "      <td>...</td>\n",
              "      <td>...</td>\n",
              "      <td>...</td>\n",
              "    </tr>\n",
              "    <tr>\n",
              "      <th>763</th>\n",
              "      <td>10.000000</td>\n",
              "      <td>101.0</td>\n",
              "      <td>76.0</td>\n",
              "      <td>48.000000</td>\n",
              "      <td>180.000000</td>\n",
              "      <td>32.9</td>\n",
              "      <td>0.171</td>\n",
              "      <td>63</td>\n",
              "    </tr>\n",
              "    <tr>\n",
              "      <th>764</th>\n",
              "      <td>2.000000</td>\n",
              "      <td>122.0</td>\n",
              "      <td>70.0</td>\n",
              "      <td>27.000000</td>\n",
              "      <td>79.799479</td>\n",
              "      <td>36.8</td>\n",
              "      <td>0.340</td>\n",
              "      <td>27</td>\n",
              "    </tr>\n",
              "    <tr>\n",
              "      <th>765</th>\n",
              "      <td>5.000000</td>\n",
              "      <td>121.0</td>\n",
              "      <td>72.0</td>\n",
              "      <td>23.000000</td>\n",
              "      <td>112.000000</td>\n",
              "      <td>26.2</td>\n",
              "      <td>0.245</td>\n",
              "      <td>30</td>\n",
              "    </tr>\n",
              "    <tr>\n",
              "      <th>766</th>\n",
              "      <td>1.000000</td>\n",
              "      <td>126.0</td>\n",
              "      <td>60.0</td>\n",
              "      <td>20.536458</td>\n",
              "      <td>79.799479</td>\n",
              "      <td>30.1</td>\n",
              "      <td>0.349</td>\n",
              "      <td>47</td>\n",
              "    </tr>\n",
              "    <tr>\n",
              "      <th>767</th>\n",
              "      <td>1.000000</td>\n",
              "      <td>93.0</td>\n",
              "      <td>70.0</td>\n",
              "      <td>31.000000</td>\n",
              "      <td>79.799479</td>\n",
              "      <td>30.4</td>\n",
              "      <td>0.315</td>\n",
              "      <td>23</td>\n",
              "    </tr>\n",
              "  </tbody>\n",
              "</table>\n",
              "<p>768 rows × 8 columns</p>\n",
              "</div>\n",
              "      <button class=\"colab-df-convert\" onclick=\"convertToInteractive('df-a0811f66-e8d1-46b9-bae6-b9e08b080829')\"\n",
              "              title=\"Convert this dataframe to an interactive table.\"\n",
              "              style=\"display:none;\">\n",
              "        \n",
              "  <svg xmlns=\"http://www.w3.org/2000/svg\" height=\"24px\"viewBox=\"0 0 24 24\"\n",
              "       width=\"24px\">\n",
              "    <path d=\"M0 0h24v24H0V0z\" fill=\"none\"/>\n",
              "    <path d=\"M18.56 5.44l.94 2.06.94-2.06 2.06-.94-2.06-.94-.94-2.06-.94 2.06-2.06.94zm-11 1L8.5 8.5l.94-2.06 2.06-.94-2.06-.94L8.5 2.5l-.94 2.06-2.06.94zm10 10l.94 2.06.94-2.06 2.06-.94-2.06-.94-.94-2.06-.94 2.06-2.06.94z\"/><path d=\"M17.41 7.96l-1.37-1.37c-.4-.4-.92-.59-1.43-.59-.52 0-1.04.2-1.43.59L10.3 9.45l-7.72 7.72c-.78.78-.78 2.05 0 2.83L4 21.41c.39.39.9.59 1.41.59.51 0 1.02-.2 1.41-.59l7.78-7.78 2.81-2.81c.8-.78.8-2.07 0-2.86zM5.41 20L4 18.59l7.72-7.72 1.47 1.35L5.41 20z\"/>\n",
              "  </svg>\n",
              "      </button>\n",
              "      \n",
              "  <style>\n",
              "    .colab-df-container {\n",
              "      display:flex;\n",
              "      flex-wrap:wrap;\n",
              "      gap: 12px;\n",
              "    }\n",
              "\n",
              "    .colab-df-convert {\n",
              "      background-color: #E8F0FE;\n",
              "      border: none;\n",
              "      border-radius: 50%;\n",
              "      cursor: pointer;\n",
              "      display: none;\n",
              "      fill: #1967D2;\n",
              "      height: 32px;\n",
              "      padding: 0 0 0 0;\n",
              "      width: 32px;\n",
              "    }\n",
              "\n",
              "    .colab-df-convert:hover {\n",
              "      background-color: #E2EBFA;\n",
              "      box-shadow: 0px 1px 2px rgba(60, 64, 67, 0.3), 0px 1px 3px 1px rgba(60, 64, 67, 0.15);\n",
              "      fill: #174EA6;\n",
              "    }\n",
              "\n",
              "    [theme=dark] .colab-df-convert {\n",
              "      background-color: #3B4455;\n",
              "      fill: #D2E3FC;\n",
              "    }\n",
              "\n",
              "    [theme=dark] .colab-df-convert:hover {\n",
              "      background-color: #434B5C;\n",
              "      box-shadow: 0px 1px 3px 1px rgba(0, 0, 0, 0.15);\n",
              "      filter: drop-shadow(0px 1px 2px rgba(0, 0, 0, 0.3));\n",
              "      fill: #FFFFFF;\n",
              "    }\n",
              "  </style>\n",
              "\n",
              "      <script>\n",
              "        const buttonEl =\n",
              "          document.querySelector('#df-a0811f66-e8d1-46b9-bae6-b9e08b080829 button.colab-df-convert');\n",
              "        buttonEl.style.display =\n",
              "          google.colab.kernel.accessAllowed ? 'block' : 'none';\n",
              "\n",
              "        async function convertToInteractive(key) {\n",
              "          const element = document.querySelector('#df-a0811f66-e8d1-46b9-bae6-b9e08b080829');\n",
              "          const dataTable =\n",
              "            await google.colab.kernel.invokeFunction('convertToInteractive',\n",
              "                                                     [key], {});\n",
              "          if (!dataTable) return;\n",
              "\n",
              "          const docLinkHtml = 'Like what you see? Visit the ' +\n",
              "            '<a target=\"_blank\" href=https://colab.research.google.com/notebooks/data_table.ipynb>data table notebook</a>'\n",
              "            + ' to learn more about interactive tables.';\n",
              "          element.innerHTML = '';\n",
              "          dataTable['output_type'] = 'display_data';\n",
              "          await google.colab.output.renderOutput(dataTable, element);\n",
              "          const docLink = document.createElement('div');\n",
              "          docLink.innerHTML = docLinkHtml;\n",
              "          element.appendChild(docLink);\n",
              "        }\n",
              "      </script>\n",
              "    </div>\n",
              "  </div>\n",
              "  "
            ],
            "text/plain": [
              "     Pregnancies  Glucose  BloodPressure  ...   BMI  DiabetesPedigreeFunction  Age\n",
              "0       6.000000    148.0           72.0  ...  33.6                     0.627   50\n",
              "1       1.000000     85.0           66.0  ...  26.6                     0.351   31\n",
              "2       8.000000    183.0           64.0  ...  23.3                     0.672   32\n",
              "3       1.000000     89.0           66.0  ...  28.1                     0.167   21\n",
              "4       3.845052    137.0           40.0  ...  43.1                     2.288   33\n",
              "..           ...      ...            ...  ...   ...                       ...  ...\n",
              "763    10.000000    101.0           76.0  ...  32.9                     0.171   63\n",
              "764     2.000000    122.0           70.0  ...  36.8                     0.340   27\n",
              "765     5.000000    121.0           72.0  ...  26.2                     0.245   30\n",
              "766     1.000000    126.0           60.0  ...  30.1                     0.349   47\n",
              "767     1.000000     93.0           70.0  ...  30.4                     0.315   23\n",
              "\n",
              "[768 rows x 8 columns]"
            ]
          },
          "metadata": {},
          "execution_count": 18
        }
      ]
    },
    {
      "cell_type": "code",
      "source": [
        "from sklearn.model_selection import train_test_split#splitting the entries in the dataframe\n"
      ],
      "metadata": {
        "id": "s80t3abLy7zR"
      },
      "execution_count": 46,
      "outputs": []
    },
    {
      "cell_type": "code",
      "source": [
        "df_new1 = X[X.Insulin != 0]#creating new dataframe"
      ],
      "metadata": {
        "id": "ZBycN0jVy-4G"
      },
      "execution_count": 47,
      "outputs": []
    },
    {
      "cell_type": "code",
      "source": [
        "df_new1.boxplot(figsize=(8,7))#visualizing the new dataframe"
      ],
      "metadata": {
        "colab": {
          "base_uri": "https://localhost:8080/",
          "height": 445
        },
        "id": "hHXBICfczCl3",
        "outputId": "37a218b9-43f5-4f22-83bd-098544368315"
      },
      "execution_count": 48,
      "outputs": [
        {
          "output_type": "execute_result",
          "data": {
            "text/plain": [
              "<matplotlib.axes._subplots.AxesSubplot at 0x7f9d30ae9f50>"
            ]
          },
          "metadata": {},
          "execution_count": 48
        },
        {
          "output_type": "display_data",
          "data": {
            "image/png": "[encoded data removed]",
            "text/plain": [
              "<Figure size 576x504 with 1 Axes>"
            ]
          },
          "metadata": {
            "needs_background": "light"
          }
        }
      ]
    },
    {
      "cell_type": "markdown",
      "source": [
        "Using a 70/30 split of each dataset to create separate train and test sets.\n"
      ],
      "metadata": {
        "id": "iXSGXrcp_koq"
      }
    },
    {
      "cell_type": "code",
      "source": [
        "X_train, X_test, y_train, y_test = train_test_split(df_new, y, test_size=0.3, random_state=18)"
      ],
      "metadata": {
        "id": "OIy6u4OozF-z"
      },
      "execution_count": 22,
      "outputs": []
    },
    {
      "cell_type": "code",
      "source": [
        "X_train.shape,X_test.shape#representing the shape of x train and x test data"
      ],
      "metadata": {
        "colab": {
          "base_uri": "https://localhost:8080/"
        },
        "id": "BeWC-V75zOQN",
        "outputId": "0d77bb87-4fba-4df6-a975-257cb9817919"
      },
      "execution_count": 49,
      "outputs": [
        {
          "output_type": "execute_result",
          "data": {
            "text/plain": [
              "((537, 8), (231, 8))"
            ]
          },
          "metadata": {},
          "execution_count": 49
        }
      ]
    },
    {
      "cell_type": "code",
      "source": [
        "y_train"
      ],
      "metadata": {
        "colab": {
          "base_uri": "https://localhost:8080/"
        },
        "id": "ReT5zdV5zQpc",
        "outputId": "f7562787-14c7-46a9-f564-e5f1f365dab2"
      },
      "execution_count": 24,
      "outputs": [
        {
          "output_type": "execute_result",
          "data": {
            "text/plain": [
              "662    1\n",
              "469    0\n",
              "203    0\n",
              "574    0\n",
              "408    1\n",
              "      ..\n",
              "145    0\n",
              "401    0\n",
              "343    0\n",
              "192    1\n",
              "418    0\n",
              "Name: Outcome, Length: 537, dtype: int64"
            ]
          },
          "metadata": {},
          "execution_count": 24
        }
      ]
    },
    {
      "cell_type": "markdown",
      "source": [
        "Task 1- Implementation"
      ],
      "metadata": {
        "id": "-xPInLwv_ynO"
      }
    },
    {
      "cell_type": "code",
      "source": [
        "from sklearn.preprocessing import StandardScaler#importing standard scalar to subtract the mean and scale the unit variance\n",
        "std1=StandardScaler()"
      ],
      "metadata": {
        "id": "RQ1LspY2zTSO"
      },
      "execution_count": 50,
      "outputs": []
    },
    {
      "cell_type": "code",
      "source": [
        "X_train_std=std1.fit_transform(X_train)\n",
        "X_test_std=std1.transform(X_test)"
      ],
      "metadata": {
        "id": "bPVxV558zXDz"
      },
      "execution_count": 51,
      "outputs": []
    },
    {
      "cell_type": "code",
      "source": [
        "X_train_std\n"
      ],
      "metadata": {
        "colab": {
          "base_uri": "https://localhost:8080/"
        },
        "id": "rwDWhrKZzZlJ",
        "outputId": "a29c41a9-72c7-45fd-8f1a-87680bb29b82"
      },
      "execution_count": 52,
      "outputs": [
        {
          "output_type": "execute_result",
          "data": {
            "text/plain": [
              "array([[ 1.1835848 ,  1.42298878,  2.87293126, ...,  0.74823759,\n",
              "        -0.90134647,  0.83001091],\n",
              "       [ 0.52500077,  1.0064112 ,  0.5132928 , ...,  2.00408409,\n",
              "         0.27788699, -0.53017481],\n",
              "       [-0.79216728, -0.7560324 , -0.16088962, ..., -1.79300474,\n",
              "        -0.69803036, -0.53017481],\n",
              "       ...,\n",
              "       [ 0.19570876, -0.01901053,  1.18747522, ...,  0.31977231,\n",
              "        -0.53828198, -0.02010517],\n",
              "       [ 0.85429279,  1.16663334, -0.49798083, ..., -0.31553827,\n",
              "        -0.268162  ,  0.23492966],\n",
              "       [-1.12145929, -1.26874326, -0.32943523, ..., -2.11804736,\n",
              "         0.43182633, -0.53017481]])"
            ]
          },
          "metadata": {},
          "execution_count": 52
        }
      ]
    },
    {
      "cell_type": "markdown",
      "source": [
        "Model implementation by Multi layer perceptron"
      ],
      "metadata": {
        "id": "XmH1_HPZAE3p"
      }
    },
    {
      "cell_type": "code",
      "source": [
        "from sklearn.neural_network import MLPClassifier as MLP\n",
        "from sklearn.metrics import accuracy_score,classification_report,confusion_matrix\n"
      ],
      "metadata": {
        "id": "bRr4HLfNzbbm"
      },
      "execution_count": 28,
      "outputs": []
    },
    {
      "cell_type": "code",
      "source": [
        "m1 = MLP(hidden_layer_sizes=(200,),\n",
        " activation='relu',\n",
        " solver='adam',\n",
        " alpha=0.001,\n",
        " batch_size='auto',\n",
        " learning_rate='constant',\n",
        " learning_rate_init=0.01,\n",
        " max_iter=11)\n"
      ],
      "metadata": {
        "id": "WMqUsY56zi3r"
      },
      "execution_count": 53,
      "outputs": []
    },
    {
      "cell_type": "code",
      "source": [
        "m1.fit(X_train_std,y_train)\n",
        "m1.score(X_test_std,y_test)\n"
      ],
      "metadata": {
        "colab": {
          "base_uri": "https://localhost:8080/"
        },
        "id": "DkBpxrMXznnB",
        "outputId": "e8ff23dd-1fd3-44d0-cf09-1d1c7c0cfce2"
      },
      "execution_count": 54,
      "outputs": [
        {
          "output_type": "stream",
          "name": "stderr",
          "text": [
            "/usr/local/lib/python3.7/dist-packages/sklearn/neural_network/_multilayer_perceptron.py:696: ConvergenceWarning: Stochastic Optimizer: Maximum iterations (11) reached and the optimization hasn't converged yet.\n",
            "  ConvergenceWarning,\n"
          ]
        },
        {
          "output_type": "execute_result",
          "data": {
            "text/plain": [
              "0.6883116883116883"
            ]
          },
          "metadata": {},
          "execution_count": 54
        }
      ]
    },
    {
      "cell_type": "markdown",
      "source": [
        "a)For each of the two methods, produce a visualization of the loss function with the number of training epochs. "
      ],
      "metadata": {
        "id": "JgbJCmv5ANzw"
      }
    },
    {
      "cell_type": "code",
      "source": [
        "prediction = m1.predict(X_test_std)\n",
        "accu = accuracy_score(y_test,prediction) * 100\n",
        "value_loss = m1.loss_curve_\n",
        "plt.plot(value_loss)\n",
        "plt.show()"
      ],
      "metadata": {
        "colab": {
          "base_uri": "https://localhost:8080/",
          "height": 265
        },
        "id": "XP6MPd8XzuX4",
        "outputId": "5e96d1c2-c237-4339-81ce-5ed3565532dc"
      },
      "execution_count": 55,
      "outputs": [
        {
          "output_type": "display_data",
          "data": {
            "image/png": "[encoded data removed]",
            "text/plain": [
              "<Figure size 432x288 with 1 Axes>"
            ]
          },
          "metadata": {
            "needs_background": "light"
          }
        }
      ]
    },
    {
      "cell_type": "markdown",
      "source": [
        "b)Display the value of the coefficient vector at the end of the training process.\n"
      ],
      "metadata": {
        "id": "pz0NE7yOAX36"
      }
    },
    {
      "cell_type": "code",
      "source": [
        "m1.coefs_[1]#representing the coefficients\n"
      ],
      "metadata": {
        "colab": {
          "base_uri": "https://localhost:8080/"
        },
        "id": "p-V2SWCrz377",
        "outputId": "55f3aa1e-3bd8-46a8-9237-78171bf507d6"
      },
      "execution_count": 56,
      "outputs": [
        {
          "output_type": "execute_result",
          "data": {
            "text/plain": [
              "array([[-3.17015751e-02],\n",
              "       [-7.42565358e-02],\n",
              "       [-2.83562148e-02],\n",
              "       [-8.09344722e-02],\n",
              "       [ 8.55824932e-03],\n",
              "       [ 6.41302361e-02],\n",
              "       [-4.14002780e-02],\n",
              "       [ 4.10676014e-02],\n",
              "       [-1.63476342e-01],\n",
              "       [-1.47134416e-01],\n",
              "       [-9.56969169e-02],\n",
              "       [ 8.37500831e-02],\n",
              "       [ 4.66526121e-02],\n",
              "       [ 3.46953825e-03],\n",
              "       [ 1.60063125e-01],\n",
              "       [ 1.11709448e-02],\n",
              "       [-2.53227599e-02],\n",
              "       [-2.10612620e-01],\n",
              "       [-1.93014117e-01],\n",
              "       [-4.40904691e-02],\n",
              "       [-1.09032675e-01],\n",
              "       [ 7.95424574e-02],\n",
              "       [-3.29280717e-02],\n",
              "       [ 5.98078692e-02],\n",
              "       [-2.66132690e-02],\n",
              "       [ 9.04072295e-02],\n",
              "       [ 7.28015247e-02],\n",
              "       [-1.38189721e-01],\n",
              "       [ 1.42784013e-01],\n",
              "       [ 4.41238803e-02],\n",
              "       [-2.27238223e-01],\n",
              "       [ 1.13177322e-01],\n",
              "       [-2.38923910e-01],\n",
              "       [-5.10758001e-02],\n",
              "       [-5.59905697e-02],\n",
              "       [-1.10109456e-01],\n",
              "       [ 3.66731470e-02],\n",
              "       [-2.38664796e-01],\n",
              "       [ 1.17312839e-01],\n",
              "       [-8.52740200e-02],\n",
              "       [ 7.96043978e-02],\n",
              "       [ 8.74541384e-03],\n",
              "       [-1.97600314e-01],\n",
              "       [ 7.14354762e-02],\n",
              "       [ 1.04092347e-02],\n",
              "       [ 6.66134567e-02],\n",
              "       [-5.28128001e-02],\n",
              "       [ 1.01413008e-01],\n",
              "       [-1.42053546e-01],\n",
              "       [-6.48857946e-02],\n",
              "       [-5.07432106e-02],\n",
              "       [ 9.91712548e-03],\n",
              "       [ 1.29909873e-01],\n",
              "       [ 1.40247867e-01],\n",
              "       [-1.46551174e-01],\n",
              "       [-5.29899264e-02],\n",
              "       [-9.41455753e-02],\n",
              "       [ 1.42764570e-01],\n",
              "       [ 2.97648024e-02],\n",
              "       [-2.17490909e-01],\n",
              "       [-1.57659780e-01],\n",
              "       [-7.06143410e-02],\n",
              "       [-2.27885919e-02],\n",
              "       [-1.40012683e-01],\n",
              "       [-9.02167575e-02],\n",
              "       [-1.79209212e-01],\n",
              "       [-5.01327530e-02],\n",
              "       [-1.85532695e-01],\n",
              "       [-1.16583782e-01],\n",
              "       [-7.72112269e-02],\n",
              "       [-9.64148030e-02],\n",
              "       [-1.48999870e-01],\n",
              "       [ 5.01526854e-02],\n",
              "       [ 1.26891669e-01],\n",
              "       [ 1.17949419e-01],\n",
              "       [ 3.50241781e-02],\n",
              "       [-2.49883632e-01],\n",
              "       [-1.93299935e-02],\n",
              "       [ 1.05225303e-01],\n",
              "       [ 1.67024807e-01],\n",
              "       [ 6.32720703e-02],\n",
              "       [ 7.54321216e-02],\n",
              "       [ 6.83315032e-02],\n",
              "       [-5.26199532e-02],\n",
              "       [-3.02681949e-01],\n",
              "       [ 1.73594799e-01],\n",
              "       [-1.24628515e-01],\n",
              "       [-7.75841533e-02],\n",
              "       [ 7.85124065e-02],\n",
              "       [-1.00799760e-01],\n",
              "       [-2.60693587e-02],\n",
              "       [ 2.92047494e-02],\n",
              "       [-1.95474892e-01],\n",
              "       [-4.18515073e-02],\n",
              "       [-2.41651418e-04],\n",
              "       [-1.30020732e-01],\n",
              "       [-4.72812529e-02],\n",
              "       [ 4.23531903e-02],\n",
              "       [ 1.08786973e-01],\n",
              "       [ 8.73255617e-02],\n",
              "       [-1.42177989e-02],\n",
              "       [ 1.19030105e-01],\n",
              "       [ 1.15639046e-01],\n",
              "       [ 1.15753542e-02],\n",
              "       [ 5.90845333e-02],\n",
              "       [ 4.44713689e-02],\n",
              "       [ 1.32547315e-01],\n",
              "       [ 1.02203416e-01],\n",
              "       [-1.89528928e-02],\n",
              "       [-3.59020453e-02],\n",
              "       [ 1.46458800e-01],\n",
              "       [-1.09162510e-01],\n",
              "       [-1.95086958e-01],\n",
              "       [-1.81785760e-01],\n",
              "       [-1.31392820e-01],\n",
              "       [ 1.34597148e-02],\n",
              "       [ 5.79107485e-02],\n",
              "       [-2.06243480e-02],\n",
              "       [-2.70045409e-01],\n",
              "       [-1.16986914e-01],\n",
              "       [-1.83786359e-01],\n",
              "       [-1.62738663e-01],\n",
              "       [ 2.25780491e-02],\n",
              "       [ 8.54939968e-02],\n",
              "       [-1.45863190e-01],\n",
              "       [-1.11996833e-01],\n",
              "       [-1.28766447e-01],\n",
              "       [-1.81626095e-01],\n",
              "       [-3.01897738e-02],\n",
              "       [ 9.71910111e-02],\n",
              "       [-2.00735782e-01],\n",
              "       [ 2.44215037e-02],\n",
              "       [-1.24511461e-01],\n",
              "       [ 1.24774005e-01],\n",
              "       [-3.76848832e-02],\n",
              "       [-1.70301960e-01],\n",
              "       [ 4.93807112e-02],\n",
              "       [-2.49567745e-01],\n",
              "       [ 1.77389956e-01],\n",
              "       [ 1.16706249e-01],\n",
              "       [ 3.88017739e-02],\n",
              "       [-1.43885709e-01],\n",
              "       [-5.70303285e-02],\n",
              "       [ 8.53061626e-02],\n",
              "       [ 1.27267390e-01],\n",
              "       [-1.01151764e-01],\n",
              "       [ 1.90924842e-01],\n",
              "       [-8.86740874e-02],\n",
              "       [ 2.19251885e-03],\n",
              "       [-1.36837699e-01],\n",
              "       [-3.98702081e-02],\n",
              "       [-1.70947836e-01],\n",
              "       [ 1.05731873e-01],\n",
              "       [ 1.10154668e-02],\n",
              "       [-1.25645319e-01],\n",
              "       [-4.09767264e-02],\n",
              "       [ 7.59196234e-02],\n",
              "       [ 5.27104496e-02],\n",
              "       [ 2.19103219e-01],\n",
              "       [ 4.87224844e-02],\n",
              "       [ 1.18196872e-01],\n",
              "       [-1.61995077e-01],\n",
              "       [-1.49266794e-01],\n",
              "       [ 9.57412462e-02],\n",
              "       [-1.22049031e-01],\n",
              "       [-2.64431130e-01],\n",
              "       [-2.16306890e-01],\n",
              "       [-2.49138923e-01],\n",
              "       [-4.75720142e-02],\n",
              "       [-1.32248634e-02],\n",
              "       [-1.15972645e-01],\n",
              "       [ 1.74753432e-02],\n",
              "       [-1.85847175e-01],\n",
              "       [ 1.02067588e-01],\n",
              "       [-1.19211165e-01],\n",
              "       [ 2.30738636e-02],\n",
              "       [ 5.52670726e-02],\n",
              "       [ 8.60255366e-02],\n",
              "       [ 4.45715315e-02],\n",
              "       [-1.44414681e-01],\n",
              "       [-1.32835978e-01],\n",
              "       [ 2.23090660e-02],\n",
              "       [ 1.93355963e-02],\n",
              "       [-6.05436014e-02],\n",
              "       [ 9.13266627e-02],\n",
              "       [ 3.84641558e-02],\n",
              "       [-1.00610066e-01],\n",
              "       [ 5.93903807e-02],\n",
              "       [ 1.74001807e-01],\n",
              "       [ 1.67553808e-01],\n",
              "       [-1.24747539e-01],\n",
              "       [ 5.97593551e-02],\n",
              "       [ 8.63678020e-04],\n",
              "       [-1.46154577e-01],\n",
              "       [-2.43728128e-02],\n",
              "       [-8.36257879e-02],\n",
              "       [-1.64392169e-01],\n",
              "       [-5.40198865e-02],\n",
              "       [-1.72198869e-01],\n",
              "       [ 2.03597518e-01]])"
            ]
          },
          "metadata": {},
          "execution_count": 56
        }
      ]
    },
    {
      "cell_type": "markdown",
      "source": [
        "Task 2 Model training"
      ],
      "metadata": {
        "id": "-3iMbx25AktL"
      }
    },
    {
      "cell_type": "markdown",
      "source": [
        "**How did you decide to terminate the training process referred to in Task 1 above?**\n",
        "\n",
        "\n",
        "\n",
        "I have terminated the training because the accuracy has stopped after certain levels even after adding the parameters like hidden layers ,\n",
        "learning rate and alpha by seeing certain values."
      ],
      "metadata": {
        "id": "gL1uFhO5Aoc5"
      }
    },
    {
      "cell_type": "markdown",
      "source": [
        "Task 3 Model Evaluation\n"
      ],
      "metadata": {
        "id": "X-FR-JwwBe7j"
      }
    },
    {
      "cell_type": "markdown",
      "source": [
        "What is the classification accuracy achieved on the hold out test set? Display the miss-classification matrix.\n",
        "\n",
        "\n"
      ],
      "metadata": {
        "id": "HmjwXbjABkN0"
      }
    },
    {
      "cell_type": "code",
      "source": [
        "r = classification_report(y_test,prediction)\n",
        "print(r)\n",
        "plt.figure(figsize=(7,7))\n",
        "cf = confusion_matrix(y_test,prediction)\n",
        "sns.heatmap(cf,annot=True,cmap='Dark2')\n",
        "plt.xlabel('Test values',fontsize=10)\n",
        "plt.ylabel('Predicted values',fontsize=10)\n",
        "plt.title('Miss-classification matrix')\n",
        "plt.tight_layout()"
      ],
      "metadata": {
        "colab": {
          "base_uri": "https://localhost:8080/",
          "height": 669
        },
        "id": "DDHS2OyEz73x",
        "outputId": "e5c6bb32-8ca7-48c2-9d12-a4b1774ce2c5"
      },
      "execution_count": 57,
      "outputs": [
        {
          "output_type": "stream",
          "name": "stdout",
          "text": [
            "              precision    recall  f1-score   support\n",
            "\n",
            "           0       0.70      0.86      0.77       143\n",
            "           1       0.64      0.41      0.50        88\n",
            "\n",
            "    accuracy                           0.69       231\n",
            "   macro avg       0.67      0.63      0.64       231\n",
            "weighted avg       0.68      0.69      0.67       231\n",
            "\n"
          ]
        },
        {
          "output_type": "display_data",
          "data": {
            "image/png": "[encoded data removed]",
            "text/plain": [
              "<Figure size 504x504 with 2 Axes>"
            ]
          },
          "metadata": {
            "needs_background": "light"
          }
        }
      ]
    },
    {
      "cell_type": "markdown",
      "source": [
        "Task 4 Extending the basic perceptron method (to be done by partner 1)\n",
        "For the linear perceptron we will employ a divide and conquer method for extension. For each region R currently discovered by the perceptron during training, recursively sub-divide it into two sub-regions R1 and R2 using the same approach you took in Task 1. \n"
      ],
      "metadata": {
        "id": "3BKPCaQJBzvz"
      }
    },
    {
      "cell_type": "markdown",
      "source": [
        "a)What is your stopping criterion to avoid overfitting?\n",
        "\n",
        "\n",
        "To avoid the overfitting i have used k fold cross validation by using the number of splits as 10. Below it is observed that the training accuracy and testing accuracy is same so i have used the k cross validation to stop.\n"
      ],
      "metadata": {
        "id": "_HZiDGi3B6DR"
      }
    },
    {
      "cell_type": "code",
      "source": [
        "model_p = Perceptron(max_iter=25,eta0=0.01)\n",
        "model_p.fit(X_train_std,y_train)\n",
        "pred_p = model_p.predict(X_test_std)\n",
        "acc_p = accuracy_score(y_test,pred_p)"
      ],
      "metadata": {
        "id": "BGHgjzLU0Bch"
      },
      "execution_count": 58,
      "outputs": []
    },
    {
      "cell_type": "code",
      "source": [
        "cv_t = RepeatedKFold(n_splits=10, n_repeats=3, random_state=1)\n",
        "scores = cross_val_score(model_p, X_train_std, y_train, scoring='accuracy', cv=cv_t, n_jobs=-1)\n",
        "cv1 = RepeatedKFold(n_splits=10, n_repeats=3, random_state=1)\n",
        "scores = cross_val_score(model_p, X_test_std, y_test, scoring='accuracy', cv=cv, n_jobs=-1)\n",
        "print('Training Accuracy: %.3f (%.3f)' % (np.mean(scores), np.std(scores)))\n",
        "print('Testing Accuracy: %.3f (%.3f)' % (np.mean(scores), np.std(scores)))\n"
      ],
      "metadata": {
        "colab": {
          "base_uri": "https://localhost:8080/"
        },
        "id": "cngYieHP0fHj",
        "outputId": "52509279-c645-4202-fa17-08741ade6d16"
      },
      "execution_count": 59,
      "outputs": [
        {
          "output_type": "stream",
          "name": "stdout",
          "text": [
            "Training Accuracy: 0.596 (0.141)\n",
            "Testing Accuracy: 0.596 (0.141)\n"
          ]
        }
      ]
    },
    {
      "cell_type": "markdown",
      "source": [
        "b) What is the accuracy of the extended approach on the test\n",
        "set?\n",
        "\n",
        "The testing accuracy of the extended approch is 0.596 which is equal to the training accuracy"
      ],
      "metadata": {
        "id": "6FiJD7VgC2BE"
      }
    },
    {
      "cell_type": "code",
      "source": [
        "cv1 = RepeatedKFold(n_splits=10, n_repeats=3, random_state=1)\n",
        "scores1 = cross_val_score(model_p, X_test_std, y_test, scoring='accuracy', cv=cv1, n_jobs=-1)\n",
        "print('Testing Accuracy: %.3f (%.3f)' % (np.mean(scores), np.std(scores)))\n"
      ],
      "metadata": {
        "colab": {
          "base_uri": "https://localhost:8080/"
        },
        "id": "zs6r_H9w0iMC",
        "outputId": "7d9ce7cf-0735-43e1-8497-9cbf9e9b3206"
      },
      "execution_count": 60,
      "outputs": [
        {
          "output_type": "stream",
          "name": "stdout",
          "text": [
            "Testing Accuracy: 0.596 (0.141)\n"
          ]
        }
      ]
    },
    {
      "cell_type": "code",
      "source": [
        "import pandas as pd\n",
        "import numpy as np\n",
        "import seaborn as sns\n",
        "import matplotlib.pyplot as plt\n",
        "import math\n",
        "from sklearn.preprocessing import LabelEncoder"
      ],
      "metadata": {
        "id": "P33pcp8ucf2u"
      },
      "execution_count": 61,
      "outputs": []
    },
    {
      "cell_type": "code",
      "source": [
        "from google.colab import files\n",
        "uploaded=files.upload()"
      ],
      "metadata": {
        "colab": {
          "resources": {
            "http://localhost:8080/nbextensions/google.colab/files.js": {
              "data": "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",
              "ok": true,
              "headers": [
                [
                  "content-type",
                  "application/javascript"
                ]
              ],
              "status": 200,
              "status_text": ""
            }
          },
          "base_uri": "https://localhost:8080/",
          "height": 73
        },
        "id": "L2MiGzuFI6JT",
        "outputId": "54e1dbbb-5832-4935-dd93-b2310a36901d"
      },
      "execution_count": 62,
      "outputs": [
        {
          "output_type": "display_data",
          "data": {
            "text/html": [
              "\n",
              "     <input type=\"file\" id=\"files-5737ffa7-1303-4fc9-be53-1a58befcc698\" name=\"files[]\" multiple disabled\n",
              "        style=\"border:none\" />\n",
              "     <output id=\"result-5737ffa7-1303-4fc9-be53-1a58befcc698\">\n",
              "      Upload widget is only available when the cell has been executed in the\n",
              "      current browser session. Please rerun this cell to enable.\n",
              "      </output>\n",
              "      <script src=\"/nbextensions/google.colab/files.js\"></script> "
            ],
            "text/plain": [
              "<IPython.core.display.HTML object>"
            ]
          },
          "metadata": {}
        },
        {
          "output_type": "stream",
          "name": "stdout",
          "text": [
            "Saving german_credit_data.csv to german_credit_data.csv\n"
          ]
        }
      ]
    },
    {
      "cell_type": "code",
      "source": [
        "import pandas as pd\n",
        "import io\n",
        "df2 = pd.read_csv(io.BytesIO(uploaded['german_credit_data.csv']))\n",
        "print(df)"
      ],
      "metadata": {
        "colab": {
          "base_uri": "https://localhost:8080/"
        },
        "id": "lC14iwmEI9Tc",
        "outputId": "5e44f0c1-05ba-4fcb-c747-e498f7869e81"
      },
      "execution_count": 84,
      "outputs": [
        {
          "output_type": "stream",
          "name": "stdout",
          "text": [
            "     Age  Sex  Job  Housing  ...  Credit amount  Duration  Purpose  Class\n",
            "0     67    1    2        1  ...           1169         6        5      1\n",
            "1     22    0    2        1  ...           5951        48        5      2\n",
            "2     49    1    1        1  ...           2096        12        3      1\n",
            "3     45    1    2        0  ...           7882        42        4      1\n",
            "4     53    1    2        0  ...           4870        24        1      2\n",
            "..   ...  ...  ...      ...  ...            ...       ...      ...    ...\n",
            "995   31    0    1        1  ...           1736        12        4      1\n",
            "996   40    1    3        1  ...           3857        30        1      1\n",
            "997   38    1    2        1  ...            804        12        5      1\n",
            "998   23    1    2        0  ...           1845        45        5      2\n",
            "999   27    1    2        1  ...           4576        45        1      1\n",
            "\n",
            "[1000 rows x 10 columns]\n"
          ]
        }
      ]
    },
    {
      "cell_type": "code",
      "source": [
        "df2.isnull().sum()#Representing the null values in the dataframe"
      ],
      "metadata": {
        "colab": {
          "base_uri": "https://localhost:8080/"
        },
        "id": "ProaLwDzJDSl",
        "outputId": "24ef47a2-8667-4753-cfdd-0a84e97c718a"
      },
      "execution_count": 85,
      "outputs": [
        {
          "output_type": "execute_result",
          "data": {
            "text/plain": [
              "Age                   0\n",
              "Sex                   0\n",
              "Job                   0\n",
              "Housing               0\n",
              "Saving accounts     183\n",
              "Checking account    394\n",
              "Credit amount         0\n",
              "Duration              0\n",
              "Purpose               0\n",
              "Class                 0\n",
              "dtype: int64"
            ]
          },
          "metadata": {},
          "execution_count": 85
        }
      ]
    },
    {
      "cell_type": "code",
      "source": [
        "df2['Checking account'].mode()[0]#Checking the non numeric data in the dataframe"
      ],
      "metadata": {
        "colab": {
          "base_uri": "https://localhost:8080/",
          "height": 35
        },
        "id": "3pCjdZ1wJGws",
        "outputId": "af6a89e3-ee37-40b9-9c13-374a5d278e9a"
      },
      "execution_count": 86,
      "outputs": [
        {
          "output_type": "execute_result",
          "data": {
            "application/vnd.google.colaboratory.intrinsic+json": {
              "type": "string"
            },
            "text/plain": [
              "'little'"
            ]
          },
          "metadata": {},
          "execution_count": 86
        }
      ]
    },
    {
      "cell_type": "code",
      "source": [
        "df2['Saving accounts']=df2['Saving accounts'].replace(pd.NA,df2['Saving accounts'].mode()[0])#replacing the na values in the savings account\n",
        "df2['Checking account']=df2['Checking account'].replace(pd.NA,df2['Checking account'].mode()[0])#replacing the na values in the checking account"
      ],
      "metadata": {
        "id": "8HIanrcMJMQt"
      },
      "execution_count": 87,
      "outputs": []
    },
    {
      "cell_type": "code",
      "source": [
        "label_encoder = LabelEncoder()#To replace the catogerical value in to the numerical value"
      ],
      "metadata": {
        "id": "XZc8TQCYJS-m"
      },
      "execution_count": 67,
      "outputs": []
    },
    {
      "cell_type": "code",
      "source": [
        "df2['Sex'] = label_encoder.fit_transform(df2.Sex)\n",
        "df2['Housing']= label_encoder.fit_transform(df2.Housing)\n",
        "df2['Saving accounts']=label_encoder.fit_transform(df2['Saving accounts'])\n",
        "df2['Checking account']=label_encoder.fit_transform(df2['Checking account'])\n",
        "df2['Purpose']=label_encoder.fit_transform(df2['Purpose'])"
      ],
      "metadata": {
        "id": "oLOrkTo6JeM2"
      },
      "execution_count": 88,
      "outputs": []
    },
    {
      "cell_type": "code",
      "source": [
        "X= df2.drop(\"Class\", axis=1)#dropping the class column in the dataframe\n",
        "y= df2[[\"Class\"]]"
      ],
      "metadata": {
        "id": "LOFpbc8PJh1n"
      },
      "execution_count": 89,
      "outputs": []
    },
    {
      "cell_type": "code",
      "source": [
        "from sklearn.model_selection import train_test_split"
      ],
      "metadata": {
        "id": "NQKiFJjnJj1W"
      },
      "execution_count": 90,
      "outputs": []
    },
    {
      "cell_type": "code",
      "source": [
        "X_train, X_test, y_train, y_test =train_test_split(X, y,test_size=0.3,random_state=0)"
      ],
      "metadata": {
        "id": "W0ZdgnCsJmFE"
      },
      "execution_count": 91,
      "outputs": []
    },
    {
      "cell_type": "code",
      "source": [
        "!pip install keras"
      ],
      "metadata": {
        "colab": {
          "base_uri": "https://localhost:8080/"
        },
        "id": "EXkKoE_SJoEO",
        "outputId": "fd3601ab-cfab-4287-c25f-b30dba231d81"
      },
      "execution_count": 92,
      "outputs": [
        {
          "output_type": "stream",
          "name": "stdout",
          "text": [
            "Requirement already satisfied: keras in /usr/local/lib/python3.7/dist-packages (2.8.0)\n"
          ]
        }
      ]
    },
    {
      "cell_type": "code",
      "source": [
        "from keras.models import Sequential#arranging the layers in sequential order\n",
        "from keras.layers import Dense#refers to the layers inside the neurons connecting to every neuron in the preceding layer"
      ],
      "metadata": {
        "id": "rYA_DQPaJptp"
      },
      "execution_count": 73,
      "outputs": []
    },
    {
      "cell_type": "code",
      "source": [
        "m = Sequential()\n",
        "m.add(Dense(12, input_dim = 9,activation = 'relu'))\n",
        "m.add(Dense(9, activation = 'relu'))\n",
        "m.add(Dense(1, activation = 'sigmoid'))"
      ],
      "metadata": {
        "id": "K5Pygp0fJt0R"
      },
      "execution_count": 93,
      "outputs": []
    },
    {
      "cell_type": "code",
      "source": [
        "m.compile(loss='binary_crossentropy', optimizer = 'adam', metrics = ['Accuracy'])"
      ],
      "metadata": {
        "id": "lfyrPs2cJwEj"
      },
      "execution_count": 94,
      "outputs": []
    },
    {
      "cell_type": "code",
      "source": [
        "history=m.fit(X_train, y_train, epochs = 150, verbose =2, batch_size = 10)"
      ],
      "metadata": {
        "colab": {
          "base_uri": "https://localhost:8080/"
        },
        "id": "eZSH1t8kJ14c",
        "outputId": "bdfa3b85-b55b-49ae-e591-07df595e6cfe"
      },
      "execution_count": 114,
      "outputs": [
        {
          "output_type": "stream",
          "name": "stdout",
          "text": [
            "Epoch 1/150\n",
            "70/70 - 0s - loss: -2.5085e+08 - Accuracy: 0.6943 - 184ms/epoch - 3ms/step\n",
            "Epoch 2/150\n",
            "70/70 - 0s - loss: -2.5304e+08 - Accuracy: 0.6943 - 217ms/epoch - 3ms/step\n",
            "Epoch 3/150\n",
            "70/70 - 0s - loss: -2.5524e+08 - Accuracy: 0.6943 - 199ms/epoch - 3ms/step\n",
            "Epoch 4/150\n",
            "70/70 - 0s - loss: -2.5743e+08 - Accuracy: 0.6943 - 197ms/epoch - 3ms/step\n",
            "Epoch 5/150\n",
            "70/70 - 0s - loss: -2.5966e+08 - Accuracy: 0.6943 - 189ms/epoch - 3ms/step\n",
            "Epoch 6/150\n",
            "70/70 - 0s - loss: -2.6189e+08 - Accuracy: 0.6943 - 200ms/epoch - 3ms/step\n",
            "Epoch 7/150\n",
            "70/70 - 0s - loss: -2.6416e+08 - Accuracy: 0.6943 - 173ms/epoch - 2ms/step\n",
            "Epoch 8/150\n",
            "70/70 - 0s - loss: -2.6640e+08 - Accuracy: 0.6943 - 148ms/epoch - 2ms/step\n",
            "Epoch 9/150\n",
            "70/70 - 0s - loss: -2.6866e+08 - Accuracy: 0.6943 - 203ms/epoch - 3ms/step\n",
            "Epoch 10/150\n",
            "70/70 - 0s - loss: -2.7092e+08 - Accuracy: 0.6943 - 190ms/epoch - 3ms/step\n",
            "Epoch 11/150\n",
            "70/70 - 0s - loss: -2.7322e+08 - Accuracy: 0.6943 - 177ms/epoch - 3ms/step\n",
            "Epoch 12/150\n",
            "70/70 - 0s - loss: -2.7550e+08 - Accuracy: 0.6943 - 200ms/epoch - 3ms/step\n",
            "Epoch 13/150\n",
            "70/70 - 0s - loss: -2.7781e+08 - Accuracy: 0.6943 - 176ms/epoch - 3ms/step\n",
            "Epoch 14/150\n",
            "70/70 - 0s - loss: -2.8010e+08 - Accuracy: 0.6943 - 152ms/epoch - 2ms/step\n",
            "Epoch 15/150\n",
            "70/70 - 0s - loss: -2.8245e+08 - Accuracy: 0.6943 - 184ms/epoch - 3ms/step\n",
            "Epoch 16/150\n",
            "70/70 - 0s - loss: -2.8478e+08 - Accuracy: 0.6943 - 197ms/epoch - 3ms/step\n",
            "Epoch 17/150\n",
            "70/70 - 0s - loss: -2.8712e+08 - Accuracy: 0.6943 - 195ms/epoch - 3ms/step\n",
            "Epoch 18/150\n",
            "70/70 - 0s - loss: -2.8949e+08 - Accuracy: 0.6943 - 197ms/epoch - 3ms/step\n",
            "Epoch 19/150\n",
            "70/70 - 0s - loss: -2.9185e+08 - Accuracy: 0.6943 - 193ms/epoch - 3ms/step\n",
            "Epoch 20/150\n",
            "70/70 - 0s - loss: -2.9423e+08 - Accuracy: 0.6943 - 201ms/epoch - 3ms/step\n",
            "Epoch 21/150\n",
            "70/70 - 0s - loss: -2.9661e+08 - Accuracy: 0.6943 - 182ms/epoch - 3ms/step\n",
            "Epoch 22/150\n",
            "70/70 - 0s - loss: -2.9901e+08 - Accuracy: 0.6943 - 176ms/epoch - 3ms/step\n",
            "Epoch 23/150\n",
            "70/70 - 0s - loss: -3.0142e+08 - Accuracy: 0.6943 - 171ms/epoch - 2ms/step\n",
            "Epoch 24/150\n",
            "70/70 - 0s - loss: -3.0385e+08 - Accuracy: 0.6943 - 173ms/epoch - 2ms/step\n",
            "Epoch 25/150\n",
            "70/70 - 0s - loss: -3.0627e+08 - Accuracy: 0.6943 - 171ms/epoch - 2ms/step\n",
            "Epoch 26/150\n",
            "70/70 - 0s - loss: -3.0873e+08 - Accuracy: 0.6943 - 163ms/epoch - 2ms/step\n",
            "Epoch 27/150\n",
            "70/70 - 0s - loss: -3.1117e+08 - Accuracy: 0.6943 - 234ms/epoch - 3ms/step\n",
            "Epoch 28/150\n",
            "70/70 - 0s - loss: -3.1365e+08 - Accuracy: 0.6943 - 194ms/epoch - 3ms/step\n",
            "Epoch 29/150\n",
            "70/70 - 0s - loss: -3.1611e+08 - Accuracy: 0.6943 - 203ms/epoch - 3ms/step\n",
            "Epoch 30/150\n",
            "70/70 - 0s - loss: -3.1861e+08 - Accuracy: 0.6943 - 218ms/epoch - 3ms/step\n",
            "Epoch 31/150\n",
            "70/70 - 0s - loss: -3.2112e+08 - Accuracy: 0.6943 - 206ms/epoch - 3ms/step\n",
            "Epoch 32/150\n",
            "70/70 - 0s - loss: -3.2362e+08 - Accuracy: 0.6943 - 204ms/epoch - 3ms/step\n",
            "Epoch 33/150\n",
            "70/70 - 0s - loss: -3.2616e+08 - Accuracy: 0.6943 - 192ms/epoch - 3ms/step\n",
            "Epoch 34/150\n",
            "70/70 - 0s - loss: -3.2872e+08 - Accuracy: 0.6943 - 200ms/epoch - 3ms/step\n",
            "Epoch 35/150\n",
            "70/70 - 0s - loss: -3.3127e+08 - Accuracy: 0.6943 - 182ms/epoch - 3ms/step\n",
            "Epoch 36/150\n",
            "70/70 - 0s - loss: -3.3383e+08 - Accuracy: 0.6943 - 166ms/epoch - 2ms/step\n",
            "Epoch 37/150\n",
            "70/70 - 0s - loss: -3.3644e+08 - Accuracy: 0.6943 - 191ms/epoch - 3ms/step\n",
            "Epoch 38/150\n",
            "70/70 - 0s - loss: -3.3904e+08 - Accuracy: 0.6943 - 186ms/epoch - 3ms/step\n",
            "Epoch 39/150\n",
            "70/70 - 0s - loss: -3.4167e+08 - Accuracy: 0.6943 - 183ms/epoch - 3ms/step\n",
            "Epoch 40/150\n",
            "70/70 - 0s - loss: -3.4429e+08 - Accuracy: 0.6943 - 184ms/epoch - 3ms/step\n",
            "Epoch 41/150\n",
            "70/70 - 0s - loss: -3.4696e+08 - Accuracy: 0.6943 - 210ms/epoch - 3ms/step\n",
            "Epoch 42/150\n",
            "70/70 - 0s - loss: -3.4961e+08 - Accuracy: 0.6943 - 181ms/epoch - 3ms/step\n",
            "Epoch 43/150\n",
            "70/70 - 0s - loss: -3.5228e+08 - Accuracy: 0.6943 - 132ms/epoch - 2ms/step\n",
            "Epoch 44/150\n",
            "70/70 - 0s - loss: -3.5498e+08 - Accuracy: 0.6943 - 113ms/epoch - 2ms/step\n",
            "Epoch 45/150\n",
            "70/70 - 0s - loss: -3.5769e+08 - Accuracy: 0.6943 - 114ms/epoch - 2ms/step\n",
            "Epoch 46/150\n",
            "70/70 - 0s - loss: -3.6040e+08 - Accuracy: 0.6943 - 105ms/epoch - 1ms/step\n",
            "Epoch 47/150\n",
            "70/70 - 0s - loss: -3.6316e+08 - Accuracy: 0.6943 - 119ms/epoch - 2ms/step\n",
            "Epoch 48/150\n",
            "70/70 - 0s - loss: -3.6590e+08 - Accuracy: 0.6943 - 116ms/epoch - 2ms/step\n",
            "Epoch 49/150\n",
            "70/70 - 0s - loss: -3.6866e+08 - Accuracy: 0.6943 - 110ms/epoch - 2ms/step\n",
            "Epoch 50/150\n",
            "70/70 - 0s - loss: -3.7144e+08 - Accuracy: 0.6943 - 112ms/epoch - 2ms/step\n",
            "Epoch 51/150\n",
            "70/70 - 0s - loss: -3.7423e+08 - Accuracy: 0.6943 - 108ms/epoch - 2ms/step\n",
            "Epoch 52/150\n",
            "70/70 - 0s - loss: -3.7701e+08 - Accuracy: 0.6943 - 113ms/epoch - 2ms/step\n",
            "Epoch 53/150\n",
            "70/70 - 0s - loss: -3.7983e+08 - Accuracy: 0.6943 - 100ms/epoch - 1ms/step\n",
            "Epoch 54/150\n",
            "70/70 - 0s - loss: -3.8264e+08 - Accuracy: 0.6943 - 113ms/epoch - 2ms/step\n",
            "Epoch 55/150\n",
            "70/70 - 0s - loss: -3.8548e+08 - Accuracy: 0.6943 - 105ms/epoch - 2ms/step\n",
            "Epoch 56/150\n",
            "70/70 - 0s - loss: -3.8834e+08 - Accuracy: 0.6943 - 113ms/epoch - 2ms/step\n",
            "Epoch 57/150\n",
            "70/70 - 0s - loss: -3.9121e+08 - Accuracy: 0.6943 - 110ms/epoch - 2ms/step\n",
            "Epoch 58/150\n",
            "70/70 - 0s - loss: -3.9410e+08 - Accuracy: 0.6943 - 112ms/epoch - 2ms/step\n",
            "Epoch 59/150\n",
            "70/70 - 0s - loss: -3.9699e+08 - Accuracy: 0.6943 - 123ms/epoch - 2ms/step\n",
            "Epoch 60/150\n",
            "70/70 - 0s - loss: -3.9992e+08 - Accuracy: 0.6943 - 110ms/epoch - 2ms/step\n",
            "Epoch 61/150\n",
            "70/70 - 0s - loss: -4.0285e+08 - Accuracy: 0.6943 - 108ms/epoch - 2ms/step\n",
            "Epoch 62/150\n",
            "70/70 - 0s - loss: -4.0579e+08 - Accuracy: 0.6943 - 108ms/epoch - 2ms/step\n",
            "Epoch 63/150\n",
            "70/70 - 0s - loss: -4.0875e+08 - Accuracy: 0.6943 - 113ms/epoch - 2ms/step\n",
            "Epoch 64/150\n",
            "70/70 - 0s - loss: -4.1171e+08 - Accuracy: 0.6943 - 111ms/epoch - 2ms/step\n",
            "Epoch 65/150\n",
            "70/70 - 0s - loss: -4.1470e+08 - Accuracy: 0.6943 - 111ms/epoch - 2ms/step\n",
            "Epoch 66/150\n",
            "70/70 - 0s - loss: -4.1769e+08 - Accuracy: 0.6943 - 107ms/epoch - 2ms/step\n",
            "Epoch 67/150\n",
            "70/70 - 0s - loss: -4.2069e+08 - Accuracy: 0.6943 - 112ms/epoch - 2ms/step\n",
            "Epoch 68/150\n",
            "70/70 - 0s - loss: -4.2371e+08 - Accuracy: 0.6943 - 118ms/epoch - 2ms/step\n",
            "Epoch 69/150\n",
            "70/70 - 0s - loss: -4.2675e+08 - Accuracy: 0.6943 - 129ms/epoch - 2ms/step\n",
            "Epoch 70/150\n",
            "70/70 - 0s - loss: -4.2980e+08 - Accuracy: 0.6943 - 112ms/epoch - 2ms/step\n",
            "Epoch 71/150\n",
            "70/70 - 0s - loss: -4.3286e+08 - Accuracy: 0.6943 - 118ms/epoch - 2ms/step\n",
            "Epoch 72/150\n",
            "70/70 - 0s - loss: -4.3592e+08 - Accuracy: 0.6943 - 123ms/epoch - 2ms/step\n",
            "Epoch 73/150\n",
            "70/70 - 0s - loss: -4.3904e+08 - Accuracy: 0.6943 - 113ms/epoch - 2ms/step\n",
            "Epoch 74/150\n",
            "70/70 - 0s - loss: -4.4212e+08 - Accuracy: 0.6943 - 102ms/epoch - 1ms/step\n",
            "Epoch 75/150\n",
            "70/70 - 0s - loss: -4.4523e+08 - Accuracy: 0.6943 - 105ms/epoch - 2ms/step\n",
            "Epoch 76/150\n",
            "70/70 - 0s - loss: -4.4837e+08 - Accuracy: 0.6943 - 113ms/epoch - 2ms/step\n",
            "Epoch 77/150\n",
            "70/70 - 0s - loss: -4.5149e+08 - Accuracy: 0.6943 - 120ms/epoch - 2ms/step\n",
            "Epoch 78/150\n",
            "70/70 - 0s - loss: -4.5466e+08 - Accuracy: 0.6943 - 120ms/epoch - 2ms/step\n",
            "Epoch 79/150\n",
            "70/70 - 0s - loss: -4.5784e+08 - Accuracy: 0.6943 - 116ms/epoch - 2ms/step\n",
            "Epoch 80/150\n",
            "70/70 - 0s - loss: -4.6097e+08 - Accuracy: 0.6943 - 105ms/epoch - 2ms/step\n",
            "Epoch 81/150\n",
            "70/70 - 0s - loss: -4.6421e+08 - Accuracy: 0.6943 - 107ms/epoch - 2ms/step\n",
            "Epoch 82/150\n",
            "70/70 - 0s - loss: -4.6739e+08 - Accuracy: 0.6943 - 110ms/epoch - 2ms/step\n",
            "Epoch 83/150\n",
            "70/70 - 0s - loss: -4.7065e+08 - Accuracy: 0.6943 - 103ms/epoch - 1ms/step\n",
            "Epoch 84/150\n",
            "70/70 - 0s - loss: -4.7386e+08 - Accuracy: 0.6943 - 110ms/epoch - 2ms/step\n",
            "Epoch 85/150\n",
            "70/70 - 0s - loss: -4.7715e+08 - Accuracy: 0.6943 - 104ms/epoch - 1ms/step\n",
            "Epoch 86/150\n",
            "70/70 - 0s - loss: -4.8042e+08 - Accuracy: 0.6943 - 128ms/epoch - 2ms/step\n",
            "Epoch 87/150\n",
            "70/70 - 0s - loss: -4.8371e+08 - Accuracy: 0.6943 - 107ms/epoch - 2ms/step\n",
            "Epoch 88/150\n",
            "70/70 - 0s - loss: -4.8702e+08 - Accuracy: 0.6943 - 107ms/epoch - 2ms/step\n",
            "Epoch 89/150\n",
            "70/70 - 0s - loss: -4.9032e+08 - Accuracy: 0.6943 - 105ms/epoch - 1ms/step\n",
            "Epoch 90/150\n",
            "70/70 - 0s - loss: -4.9365e+08 - Accuracy: 0.6943 - 108ms/epoch - 2ms/step\n",
            "Epoch 91/150\n",
            "70/70 - 0s - loss: -4.9701e+08 - Accuracy: 0.6943 - 105ms/epoch - 2ms/step\n",
            "Epoch 92/150\n",
            "70/70 - 0s - loss: -5.0037e+08 - Accuracy: 0.6943 - 106ms/epoch - 2ms/step\n",
            "Epoch 93/150\n",
            "70/70 - 0s - loss: -5.0375e+08 - Accuracy: 0.6943 - 107ms/epoch - 2ms/step\n",
            "Epoch 94/150\n",
            "70/70 - 0s - loss: -5.0714e+08 - Accuracy: 0.6943 - 105ms/epoch - 2ms/step\n",
            "Epoch 95/150\n",
            "70/70 - 0s - loss: -5.1059e+08 - Accuracy: 0.6943 - 113ms/epoch - 2ms/step\n",
            "Epoch 96/150\n",
            "70/70 - 0s - loss: -5.1400e+08 - Accuracy: 0.6943 - 104ms/epoch - 1ms/step\n",
            "Epoch 97/150\n",
            "70/70 - 0s - loss: -5.1744e+08 - Accuracy: 0.6943 - 111ms/epoch - 2ms/step\n",
            "Epoch 98/150\n",
            "70/70 - 0s - loss: -5.2094e+08 - Accuracy: 0.6943 - 110ms/epoch - 2ms/step\n",
            "Epoch 99/150\n",
            "70/70 - 0s - loss: -5.2440e+08 - Accuracy: 0.6943 - 111ms/epoch - 2ms/step\n",
            "Epoch 100/150\n",
            "70/70 - 0s - loss: -5.2791e+08 - Accuracy: 0.6943 - 101ms/epoch - 1ms/step\n",
            "Epoch 101/150\n",
            "70/70 - 0s - loss: -5.3142e+08 - Accuracy: 0.6943 - 102ms/epoch - 1ms/step\n",
            "Epoch 102/150\n",
            "70/70 - 0s - loss: -5.3492e+08 - Accuracy: 0.6943 - 119ms/epoch - 2ms/step\n",
            "Epoch 103/150\n",
            "70/70 - 0s - loss: -5.3849e+08 - Accuracy: 0.6943 - 115ms/epoch - 2ms/step\n",
            "Epoch 104/150\n",
            "70/70 - 0s - loss: -5.4202e+08 - Accuracy: 0.6943 - 122ms/epoch - 2ms/step\n",
            "Epoch 105/150\n",
            "70/70 - 0s - loss: -5.4558e+08 - Accuracy: 0.6943 - 121ms/epoch - 2ms/step\n",
            "Epoch 106/150\n",
            "70/70 - 0s - loss: -5.4919e+08 - Accuracy: 0.6943 - 103ms/epoch - 1ms/step\n",
            "Epoch 107/150\n",
            "70/70 - 0s - loss: -5.5277e+08 - Accuracy: 0.6943 - 105ms/epoch - 2ms/step\n",
            "Epoch 108/150\n",
            "70/70 - 0s - loss: -5.5639e+08 - Accuracy: 0.6943 - 107ms/epoch - 2ms/step\n",
            "Epoch 109/150\n",
            "70/70 - 0s - loss: -5.6003e+08 - Accuracy: 0.6943 - 107ms/epoch - 2ms/step\n",
            "Epoch 110/150\n",
            "70/70 - 0s - loss: -5.6370e+08 - Accuracy: 0.6943 - 112ms/epoch - 2ms/step\n",
            "Epoch 111/150\n",
            "70/70 - 0s - loss: -5.6734e+08 - Accuracy: 0.6943 - 112ms/epoch - 2ms/step\n",
            "Epoch 112/150\n",
            "70/70 - 0s - loss: -5.7102e+08 - Accuracy: 0.6943 - 120ms/epoch - 2ms/step\n",
            "Epoch 113/150\n",
            "70/70 - 0s - loss: -5.7472e+08 - Accuracy: 0.6943 - 126ms/epoch - 2ms/step\n",
            "Epoch 114/150\n",
            "70/70 - 0s - loss: -5.7842e+08 - Accuracy: 0.6943 - 118ms/epoch - 2ms/step\n",
            "Epoch 115/150\n",
            "70/70 - 0s - loss: -5.8209e+08 - Accuracy: 0.6943 - 105ms/epoch - 2ms/step\n",
            "Epoch 116/150\n",
            "70/70 - 0s - loss: -5.8586e+08 - Accuracy: 0.6943 - 113ms/epoch - 2ms/step\n",
            "Epoch 117/150\n",
            "70/70 - 0s - loss: -5.8962e+08 - Accuracy: 0.6943 - 111ms/epoch - 2ms/step\n",
            "Epoch 118/150\n",
            "70/70 - 0s - loss: -5.9333e+08 - Accuracy: 0.6943 - 110ms/epoch - 2ms/step\n",
            "Epoch 119/150\n",
            "70/70 - 0s - loss: -5.9715e+08 - Accuracy: 0.6943 - 109ms/epoch - 2ms/step\n",
            "Epoch 120/150\n",
            "70/70 - 0s - loss: -6.0092e+08 - Accuracy: 0.6943 - 117ms/epoch - 2ms/step\n",
            "Epoch 121/150\n",
            "70/70 - 0s - loss: -6.0473e+08 - Accuracy: 0.6943 - 115ms/epoch - 2ms/step\n",
            "Epoch 122/150\n",
            "70/70 - 0s - loss: -6.0857e+08 - Accuracy: 0.6943 - 112ms/epoch - 2ms/step\n",
            "Epoch 123/150\n",
            "70/70 - 0s - loss: -6.1242e+08 - Accuracy: 0.6943 - 115ms/epoch - 2ms/step\n",
            "Epoch 124/150\n",
            "70/70 - 0s - loss: -6.1629e+08 - Accuracy: 0.6943 - 109ms/epoch - 2ms/step\n",
            "Epoch 125/150\n",
            "70/70 - 0s - loss: -6.2017e+08 - Accuracy: 0.6943 - 117ms/epoch - 2ms/step\n",
            "Epoch 126/150\n",
            "70/70 - 0s - loss: -6.2403e+08 - Accuracy: 0.6943 - 115ms/epoch - 2ms/step\n",
            "Epoch 127/150\n",
            "70/70 - 0s - loss: -6.2797e+08 - Accuracy: 0.6943 - 107ms/epoch - 2ms/step\n",
            "Epoch 128/150\n",
            "70/70 - 0s - loss: -6.3183e+08 - Accuracy: 0.6943 - 105ms/epoch - 1ms/step\n",
            "Epoch 129/150\n",
            "70/70 - 0s - loss: -6.3581e+08 - Accuracy: 0.6943 - 118ms/epoch - 2ms/step\n",
            "Epoch 130/150\n",
            "70/70 - 0s - loss: -6.3977e+08 - Accuracy: 0.6943 - 129ms/epoch - 2ms/step\n",
            "Epoch 131/150\n",
            "70/70 - 0s - loss: -6.4374e+08 - Accuracy: 0.6943 - 113ms/epoch - 2ms/step\n",
            "Epoch 132/150\n",
            "70/70 - 0s - loss: -6.4772e+08 - Accuracy: 0.6943 - 118ms/epoch - 2ms/step\n",
            "Epoch 133/150\n",
            "70/70 - 0s - loss: -6.5176e+08 - Accuracy: 0.6943 - 109ms/epoch - 2ms/step\n",
            "Epoch 134/150\n",
            "70/70 - 0s - loss: -6.5575e+08 - Accuracy: 0.6943 - 112ms/epoch - 2ms/step\n",
            "Epoch 135/150\n",
            "70/70 - 0s - loss: -6.5986e+08 - Accuracy: 0.6943 - 113ms/epoch - 2ms/step\n",
            "Epoch 136/150\n",
            "70/70 - 0s - loss: -6.6391e+08 - Accuracy: 0.6943 - 106ms/epoch - 2ms/step\n",
            "Epoch 137/150\n",
            "70/70 - 0s - loss: -6.6798e+08 - Accuracy: 0.6943 - 103ms/epoch - 1ms/step\n",
            "Epoch 138/150\n",
            "70/70 - 0s - loss: -6.7213e+08 - Accuracy: 0.6943 - 118ms/epoch - 2ms/step\n",
            "Epoch 139/150\n",
            "70/70 - 0s - loss: -6.7621e+08 - Accuracy: 0.6943 - 125ms/epoch - 2ms/step\n",
            "Epoch 140/150\n",
            "70/70 - 0s - loss: -6.8034e+08 - Accuracy: 0.6943 - 116ms/epoch - 2ms/step\n",
            "Epoch 141/150\n",
            "70/70 - 0s - loss: -6.8452e+08 - Accuracy: 0.6943 - 107ms/epoch - 2ms/step\n",
            "Epoch 142/150\n",
            "70/70 - 0s - loss: -6.8863e+08 - Accuracy: 0.6943 - 116ms/epoch - 2ms/step\n",
            "Epoch 143/150\n",
            "70/70 - 0s - loss: -6.9279e+08 - Accuracy: 0.6943 - 121ms/epoch - 2ms/step\n",
            "Epoch 144/150\n",
            "70/70 - 0s - loss: -6.9692e+08 - Accuracy: 0.6943 - 113ms/epoch - 2ms/step\n",
            "Epoch 145/150\n",
            "70/70 - 0s - loss: -7.0110e+08 - Accuracy: 0.6943 - 115ms/epoch - 2ms/step\n",
            "Epoch 146/150\n",
            "70/70 - 0s - loss: -7.0525e+08 - Accuracy: 0.6943 - 111ms/epoch - 2ms/step\n",
            "Epoch 147/150\n",
            "70/70 - 0s - loss: -7.0944e+08 - Accuracy: 0.6943 - 125ms/epoch - 2ms/step\n",
            "Epoch 148/150\n",
            "70/70 - 0s - loss: -7.1362e+08 - Accuracy: 0.6943 - 107ms/epoch - 2ms/step\n",
            "Epoch 149/150\n",
            "70/70 - 0s - loss: -7.1784e+08 - Accuracy: 0.6943 - 103ms/epoch - 1ms/step\n",
            "Epoch 150/150\n",
            "70/70 - 0s - loss: -7.2206e+08 - Accuracy: 0.6943 - 106ms/epoch - 2ms/step\n"
          ]
        }
      ]
    },
    {
      "cell_type": "code",
      "source": [
        "from sklearn.metrics import accuracy_score#to know the performance of the model"
      ],
      "metadata": {
        "id": "VszrxnnjJ4Jy"
      },
      "execution_count": 102,
      "outputs": []
    },
    {
      "cell_type": "code",
      "source": [
        "y_pred = m.predict(X_test)\n",
        "accuracy_score(y_test,y_pred)"
      ],
      "metadata": {
        "colab": {
          "base_uri": "https://localhost:8080/"
        },
        "id": "BN5yPNo4Kef2",
        "outputId": "6e04c8a3-3ab0-4e1b-ae0b-e53af186c31a"
      },
      "execution_count": 103,
      "outputs": [
        {
          "output_type": "execute_result",
          "data": {
            "text/plain": [
              "0.7133333333333334"
            ]
          },
          "metadata": {},
          "execution_count": 103
        }
      ]
    },
    {
      "cell_type": "code",
      "source": [
        "from sklearn.metrics import confusion_matrix#define the performance"
      ],
      "metadata": {
        "id": "Gy-X1m8CKgoz"
      },
      "execution_count": 104,
      "outputs": []
    },
    {
      "cell_type": "code",
      "source": [
        "confusion_matrix(y_test,y_pred)"
      ],
      "metadata": {
        "colab": {
          "base_uri": "https://localhost:8080/"
        },
        "id": "ftUpRsjyKkEw",
        "outputId": "e48b04d4-53ce-4725-86de-24ae473b036e"
      },
      "execution_count": 105,
      "outputs": [
        {
          "output_type": "execute_result",
          "data": {
            "text/plain": [
              "array([[214,   0],\n",
              "       [ 86,   0]])"
            ]
          },
          "metadata": {},
          "execution_count": 105
        }
      ]
    },
    {
      "cell_type": "code",
      "source": [
        "history.history.keys()"
      ],
      "metadata": {
        "colab": {
          "base_uri": "https://localhost:8080/"
        },
        "id": "805hpbESKmN7",
        "outputId": "7ccfddff-6547-4d1c-bece-8a94881c8f7b"
      },
      "execution_count": 110,
      "outputs": [
        {
          "output_type": "execute_result",
          "data": {
            "text/plain": [
              "dict_keys(['loss', 'Accuracy'])"
            ]
          },
          "metadata": {},
          "execution_count": 110
        }
      ]
    },
    {
      "cell_type": "code",
      "source": [
        "import matplotlib.pyplot as plt\n",
        "plt.plot(history.history['loss'])\n",
        "plt.xlabel('epochs')\n",
        "plt.ylabel('loss')"
      ],
      "metadata": {
        "colab": {
          "base_uri": "https://localhost:8080/",
          "height": 307
        },
        "id": "SN3HxbGtKoKN",
        "outputId": "14879244-5aac-4f70-a9a8-4bf28ce4078f"
      },
      "execution_count": 112,
      "outputs": [
        {
          "output_type": "execute_result",
          "data": {
            "text/plain": [
              "Text(0, 0.5, 'loss')"
            ]
          },
          "metadata": {},
          "execution_count": 112
        },
        {
          "output_type": "display_data",
          "data": {
            "image/png": "[encoded data removed]",
            "text/plain": [
              "<Figure size 432x288 with 1 Axes>"
            ]
          },
          "metadata": {
            "needs_background": "light"
          }
        }
      ]
    },
    {
      "cell_type": "code",
      "source": [
        "import matplotlib.pyplot as plt\n",
        "plt.plot(history.history['Accuracy'])\n",
        "plt.xlabel('epochs')\n",
        "plt.ylabel('Accuracy')"
      ],
      "metadata": {
        "colab": {
          "base_uri": "https://localhost:8080/",
          "height": 297
        },
        "id": "Dq9d0quVKrWn",
        "outputId": "76acc99f-ae07-47ff-adf8-1cbabc7c66fd"
      },
      "execution_count": 113,
      "outputs": [
        {
          "output_type": "execute_result",
          "data": {
            "text/plain": [
              "Text(0, 0.5, 'Accuracy')"
            ]
          },
          "metadata": {},
          "execution_count": 113
        },
        {
          "output_type": "display_data",
          "data": {
            "image/png": "[encoded data removed]",
            "text/plain": [
              "<Figure size 432x288 with 1 Axes>"
            ]
          },
          "metadata": {
            "needs_background": "light"
          }
        }
      ]
    },
    {
      "cell_type": "code",
      "source": [
        ""
      ],
      "metadata": {
        "id": "kYsxCCZbKuF9"
      },
      "execution_count": null,
      "outputs": []
    }
  ]
}