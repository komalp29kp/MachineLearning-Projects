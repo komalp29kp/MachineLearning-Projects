{
  "cells": [
    {
      "cell_type": "code",
      "execution_count": null,
      "id": "659e8d07-4e8b-4743-bdbf-f0b095acbb3a",
      "metadata": {
        "id": "659e8d07-4e8b-4743-bdbf-f0b095acbb3a"
      },
      "outputs": [],
      "source": [
        "import pandas as pd \n",
        "import numpy as np \n",
        "import matplotlib.pyplot as plt"
      ]
    },
    {
      "cell_type": "code",
      "execution_count": null,
      "id": "24b67142-f4d0-470f-a5a1-efe34620ff59",
      "metadata": {
        "id": "24b67142-f4d0-470f-a5a1-efe34620ff59"
      },
      "outputs": [],
      "source": [
        "df = pd.read_csv(\"german_credit_data.csv\")"
      ]
    },
    {
      "cell_type": "code",
      "execution_count": null,
      "id": "658316d3-581e-4bba-939e-bae17d0d6e12",
      "metadata": {
        "id": "658316d3-581e-4bba-939e-bae17d0d6e12",
        "outputId": "2fa5a5f4-a0a8-4201-e3b4-42b5832c860e"
      },
      "outputs": [
        {
          "data": {
            "text/html": [
              "<div>\n",
              "<style scoped>\n",
              "    .dataframe tbody tr th:only-of-type {\n",
              "        vertical-align: middle;\n",
              "    }\n",
              "\n",
              "    .dataframe tbody tr th {\n",
              "        vertical-align: top;\n",
              "    }\n",
              "\n",
              "    .dataframe thead th {\n",
              "        text-align: right;\n",
              "    }\n",
              "</style>\n",
              "<table border=\"1\" class=\"dataframe\">\n",
              "  <thead>\n",
              "    <tr style=\"text-align: right;\">\n",
              "      <th></th>\n",
              "      <th>Unnamed: 0</th>\n",
              "      <th>Age</th>\n",
              "      <th>Sex</th>\n",
              "      <th>Job</th>\n",
              "      <th>Housing</th>\n",
              "      <th>Saving accounts</th>\n",
              "      <th>Checking account</th>\n",
              "      <th>Credit amount</th>\n",
              "      <th>Duration</th>\n",
              "      <th>Purpose</th>\n",
              "    </tr>\n",
              "  </thead>\n",
              "  <tbody>\n",
              "    <tr>\n",
              "      <th>1</th>\n",
              "      <td>1</td>\n",
              "      <td>22</td>\n",
              "      <td>female</td>\n",
              "      <td>2</td>\n",
              "      <td>own</td>\n",
              "      <td>little</td>\n",
              "      <td>moderate</td>\n",
              "      <td>5951</td>\n",
              "      <td>48</td>\n",
              "      <td>radio/TV</td>\n",
              "    </tr>\n",
              "    <tr>\n",
              "      <th>3</th>\n",
              "      <td>3</td>\n",
              "      <td>45</td>\n",
              "      <td>male</td>\n",
              "      <td>2</td>\n",
              "      <td>free</td>\n",
              "      <td>little</td>\n",
              "      <td>little</td>\n",
              "      <td>7882</td>\n",
              "      <td>42</td>\n",
              "      <td>furniture/equipment</td>\n",
              "    </tr>\n",
              "    <tr>\n",
              "      <th>4</th>\n",
              "      <td>4</td>\n",
              "      <td>53</td>\n",
              "      <td>male</td>\n",
              "      <td>2</td>\n",
              "      <td>free</td>\n",
              "      <td>little</td>\n",
              "      <td>little</td>\n",
              "      <td>4870</td>\n",
              "      <td>24</td>\n",
              "      <td>car</td>\n",
              "    </tr>\n",
              "    <tr>\n",
              "      <th>7</th>\n",
              "      <td>7</td>\n",
              "      <td>35</td>\n",
              "      <td>male</td>\n",
              "      <td>3</td>\n",
              "      <td>rent</td>\n",
              "      <td>little</td>\n",
              "      <td>moderate</td>\n",
              "      <td>6948</td>\n",
              "      <td>36</td>\n",
              "      <td>car</td>\n",
              "    </tr>\n",
              "    <tr>\n",
              "      <th>9</th>\n",
              "      <td>9</td>\n",
              "      <td>28</td>\n",
              "      <td>male</td>\n",
              "      <td>3</td>\n",
              "      <td>own</td>\n",
              "      <td>little</td>\n",
              "      <td>moderate</td>\n",
              "      <td>5234</td>\n",
              "      <td>30</td>\n",
              "      <td>car</td>\n",
              "    </tr>\n",
              "  </tbody>\n",
              "</table>\n",
              "</div>"
            ],
            "text/plain": [
              "   Unnamed: 0  Age     Sex  Job Housing Saving accounts Checking account  \\\n",
              "1           1   22  female    2     own          little         moderate   \n",
              "3           3   45    male    2    free          little           little   \n",
              "4           4   53    male    2    free          little           little   \n",
              "7           7   35    male    3    rent          little         moderate   \n",
              "9           9   28    male    3     own          little         moderate   \n",
              "\n",
              "   Credit amount  Duration              Purpose  \n",
              "1           5951        48             radio/TV  \n",
              "3           7882        42  furniture/equipment  \n",
              "4           4870        24                  car  \n",
              "7           6948        36                  car  \n",
              "9           5234        30                  car  "
            ]
          },
          "execution_count": 52,
          "metadata": {},
          "output_type": "execute_result"
        }
      ],
      "source": [
        "df.head()"
      ]
    },
    {
      "cell_type": "code",
      "execution_count": null,
      "id": "b90ea364-55fc-4c05-8c65-449c76831e29",
      "metadata": {
        "id": "b90ea364-55fc-4c05-8c65-449c76831e29",
        "outputId": "1fb3ac24-a08b-42a5-e0c7-9d032736beb7"
      },
      "outputs": [
        {
          "data": {
            "text/plain": [
              "Unnamed: 0            0\n",
              "Age                   0\n",
              "Sex                   0\n",
              "Job                   0\n",
              "Housing               0\n",
              "Saving accounts     183\n",
              "Checking account    394\n",
              "Credit amount         0\n",
              "Duration              0\n",
              "Purpose               0\n",
              "dtype: int64"
            ]
          },
          "execution_count": 36,
          "metadata": {},
          "output_type": "execute_result"
        }
      ],
      "source": [
        "df.isnull().sum()"
      ]
    },
    {
      "cell_type": "code",
      "execution_count": null,
      "id": "de634eb6-a497-4a17-b326-9b4fa3718bb3",
      "metadata": {
        "id": "de634eb6-a497-4a17-b326-9b4fa3718bb3",
        "outputId": "e35b7fe9-8f55-44fd-da58-2836fc0f0031"
      },
      "outputs": [
        {
          "data": {
            "text/plain": [
              "Unnamed: 0            0\n",
              "Age                   0\n",
              "Sex                   0\n",
              "Job                   0\n",
              "Housing               0\n",
              "Saving accounts     183\n",
              "Checking account    394\n",
              "Credit amount         0\n",
              "Duration              0\n",
              "Purpose               0\n",
              "dtype: int64"
            ]
          },
          "execution_count": 44,
          "metadata": {},
          "output_type": "execute_result"
        }
      ],
      "source": [
        "df.isnull().sum()"
      ]
    },
    {
      "cell_type": "code",
      "execution_count": null,
      "id": "770710de-b9d1-46a5-9dfa-9b6838187656",
      "metadata": {
        "tags": [],
        "id": "770710de-b9d1-46a5-9dfa-9b6838187656"
      },
      "outputs": [],
      "source": [
        "a = df.dropna(subset=[\"Saving accounts\"], inplace=True)"
      ]
    },
    {
      "cell_type": "code",
      "execution_count": null,
      "id": "2d6cf52a-a15b-4b9c-9408-52ab5d9e0b8b",
      "metadata": {
        "id": "2d6cf52a-a15b-4b9c-9408-52ab5d9e0b8b"
      },
      "outputs": [],
      "source": [
        "b = df.dropna(subset=[\"Checking account\"], inplace = True)"
      ]
    },
    {
      "cell_type": "code",
      "execution_count": null,
      "id": "acc6aaf7-a771-44eb-8152-7b52bb2aaa55",
      "metadata": {
        "id": "acc6aaf7-a771-44eb-8152-7b52bb2aaa55",
        "outputId": "b4cf583b-9482-4308-9c6f-b4a709c2b85f"
      },
      "outputs": [
        {
          "data": {
            "text/plain": [
              "Unnamed: 0          0\n",
              "Age                 0\n",
              "Sex                 0\n",
              "Job                 0\n",
              "Housing             0\n",
              "Saving accounts     0\n",
              "Checking account    0\n",
              "Credit amount       0\n",
              "Duration            0\n",
              "Purpose             0\n",
              "dtype: int64"
            ]
          },
          "execution_count": 48,
          "metadata": {},
          "output_type": "execute_result"
        }
      ],
      "source": [
        "df.isnull().sum()"
      ]
    },
    {
      "cell_type": "code",
      "execution_count": null,
      "id": "ca6921a1-364b-481f-b0c8-7235a6f0218d",
      "metadata": {
        "id": "ca6921a1-364b-481f-b0c8-7235a6f0218d",
        "outputId": "49af89fa-cc41-4031-b7b3-c6d4a2025bd3"
      },
      "outputs": [
        {
          "name": "stdout",
          "output_type": "stream",
          "text": [
            "<class 'pandas.core.frame.DataFrame'>\n",
            "Int64Index: 522 entries, 1 to 999\n",
            "Data columns (total 10 columns):\n",
            " #   Column            Non-Null Count  Dtype \n",
            "---  ------            --------------  ----- \n",
            " 0   Unnamed: 0        522 non-null    int64 \n",
            " 1   Age               522 non-null    int64 \n",
            " 2   Sex               522 non-null    object\n",
            " 3   Job               522 non-null    int64 \n",
            " 4   Housing           522 non-null    object\n",
            " 5   Saving accounts   522 non-null    object\n",
            " 6   Checking account  522 non-null    object\n",
            " 7   Credit amount     522 non-null    int64 \n",
            " 8   Duration          522 non-null    int64 \n",
            " 9   Purpose           522 non-null    object\n",
            "dtypes: int64(5), object(5)\n",
            "memory usage: 44.9+ KB\n"
          ]
        }
      ],
      "source": [
        "df.info()"
      ]
    },
    {
      "cell_type": "code",
      "execution_count": null,
      "id": "4cd7c0fb-dffd-4a5c-bdb2-eafdc6e3316d",
      "metadata": {
        "id": "4cd7c0fb-dffd-4a5c-bdb2-eafdc6e3316d",
        "outputId": "ef955efb-0815-4a3d-fd1f-a9f86e89d724"
      },
      "outputs": [
        {
          "name": "stdout",
          "output_type": "stream",
          "text": [
            "[[1.0 0.0 'own' 2 'radio/TV']\n",
            " [0.0 1.0 'free' 2 'furniture/equipment']\n",
            " [0.0 1.0 'free' 2 'car']\n",
            " ...\n",
            " [0.0 1.0 'own' 3 'car']\n",
            " [0.0 1.0 'free' 2 'radio/TV']\n",
            " [0.0 1.0 'own' 2 'car']]\n"
          ]
        }
      ],
      "source": [
        "from sklearn.preprocessing import OneHotEncoder\n",
        "from sklearn.compose import ColumnTransformer\n",
        "X = df[['Sex','Housing','Job','Purpose']].values\n",
        "ohe = ColumnTransformer([('anyname',OneHotEncoder(), [0])],remainder='passthrough')\n",
        "print(ohe.fit_transform(X))"
      ]
    },
    {
      "cell_type": "code",
      "execution_count": null,
      "id": "e3aa2c23-b42e-4f78-b681-637c39e778de",
      "metadata": {
        "id": "e3aa2c23-b42e-4f78-b681-637c39e778de"
      },
      "outputs": [],
      "source": [
        "from sklearn.model_selection import train_test_split\n",
        "X = df.drop(columns=['Purpose'])\n",
        "Y = df['Purpose']\n",
        "X_train, X_test, y_train, y_test = train_test_split(X,Y, test_size=0.3)"
      ]
    },
    {
      "cell_type": "code",
      "execution_count": null,
      "id": "36871b34-8dc0-4a03-8d02-a769f8e9c83a",
      "metadata": {
        "id": "36871b34-8dc0-4a03-8d02-a769f8e9c83a",
        "outputId": "737e2636-ef62-4c72-e7e8-3dc4d93d36f6"
      },
      "outputs": [
        {
          "name": "stdout",
          "output_type": "stream",
          "text": [
            "(365, 9)\n",
            "(157, 9)\n",
            "(365,)\n",
            "(157,)\n"
          ]
        }
      ],
      "source": [
        "print(X_train.shape)\n",
        "print(X_test.shape)\n",
        "print(y_train.shape)\n",
        "print(y_test.shape)"
      ]
    }
  ],
  "metadata": {
    "kernelspec": {
      "display_name": "Python 3",
      "language": "python",
      "name": "python3"
    },
    "language_info": {
      "codemirror_mode": {
        "name": "ipython",
        "version": 3
      },
      "file_extension": ".py",
      "mimetype": "text/x-python",
      "name": "python",
      "nbconvert_exporter": "python",
      "pygments_lexer": "ipython3",
      "version": "3.8.8"
    },
    "colab": {
      "provenance": []
    }
  },
  "nbformat": 4,
  "nbformat_minor": 5
}