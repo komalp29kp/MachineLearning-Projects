{
 "cells": [
  {
   "cell_type": "markdown",
   "id": "f1ecb494",
   "metadata": {},
   "source": [
    "### Task 1 and 2 (Komal pawar)\n"
   ]
  },
  {
   "cell_type": "code",
   "execution_count": 144,
   "id": "5fe87421",
   "metadata": {},
   "outputs": [],
   "source": [
    "import numpy as np\n",
    "import pandas as pd\n",
    "import os\n",
    "import glob\n",
    "import pandas as pd\n",
    "import matplotlib.pyplot as plt\n",
    "import seaborn as sns\n",
    "import warnings\n",
    "warnings.filterwarnings('ignore')"
   ]
  },
  {
   "cell_type": "code",
   "execution_count": 145,
   "id": "dcef926e",
   "metadata": {},
   "outputs": [
    {
     "data": {
      "text/plain": [
       "({0: 'male', 1: 'female'},\n",
       " {'male': 0, 'female': 1},\n",
       " {0: 'white', 1: 'black', 2: 'asian', 3: 'indian', 4: 'others'},\n",
       " {'white': 0, 'black': 1, 'asian': 2, 'indian': 3, 'others': 4})"
      ]
     },
     "execution_count": 145,
     "metadata": {},
     "output_type": "execute_result"
    }
   ],
   "source": [
    "DATA_DIR = (r\"C:\\Users\\LaptopCheckout\\Downloads\\unme\\UTKFace\")\n",
    "TRAIN_TEST_SPLIT = 0.7#splotting the data with 70%\n",
    "IM_WIDTH = IM_HEIGHT = 198\n",
    "ID_GENDER_MAP = {0: 'male', 1: 'female'}\n",
    "GENDER_ID_MAP = dict((g, i) for i, g in ID_GENDER_MAP.items())\n",
    "ID_RACE_MAP = {0: 'white', 1: 'black', 2: 'asian', 3: 'indian', 4: 'others'}\n",
    "RACE_ID_MAP = dict((r, i) for i, r in ID_RACE_MAP.items())\n",
    "ID_GENDER_MAP, GENDER_ID_MAP, ID_RACE_MAP, RACE_ID_MAP"
   ]
  },
  {
   "cell_type": "code",
   "execution_count": 146,
   "id": "66ea203d",
   "metadata": {},
   "outputs": [],
   "source": [
    "def parse_filepath(filepath):\n",
    "    try:\n",
    "        path, filename = os.path.split(filepath)\n",
    "        filename, ext = os.path.splitext(filename)\n",
    "        age, gender, race, _ = filename.split(\"_\")\n",
    "        return int(age), ID_GENDER_MAP[int(gender)], ID_RACE_MAP[int(race)]\n",
    "    except Exception as e:\n",
    "        print(filepath)\n",
    "        return None, None, None"
   ]
  },
  {
   "cell_type": "code",
   "execution_count": 147,
   "id": "3d74e22a",
   "metadata": {},
   "outputs": [],
   "source": [
    "f1 = glob.glob(os.path.join(DATA_DIR, \"*.jpg\"))\n"
   ]
  },
  {
   "cell_type": "code",
   "execution_count": 148,
   "id": "8562e61a",
   "metadata": {},
   "outputs": [
    {
     "name": "stdout",
     "output_type": "stream",
     "text": [
      "C:\\Users\\LaptopCheckout\\Downloads\\unme\\UTKFace\\39_1_20170116174525125.jpg.chip.jpg\n",
      "C:\\Users\\LaptopCheckout\\Downloads\\unme\\UTKFace\\61_1_20170109142408075.jpg.chip.jpg\n",
      "C:\\Users\\LaptopCheckout\\Downloads\\unme\\UTKFace\\61_1_20170109150557335.jpg.chip.jpg\n"
     ]
    }
   ],
   "source": [
    "attributes = list(map(parse_filepath, f1))"
   ]
  },
  {
   "cell_type": "code",
   "execution_count": 149,
   "id": "2ac7c58b",
   "metadata": {},
   "outputs": [
    {
     "data": {
      "text/html": [
       "<div>\n",
       "<style scoped>\n",
       "    .dataframe tbody tr th:only-of-type {\n",
       "        vertical-align: middle;\n",
       "    }\n",
       "\n",
       "    .dataframe tbody tr th {\n",
       "        vertical-align: top;\n",
       "    }\n",
       "\n",
       "    .dataframe thead th {\n",
       "        text-align: right;\n",
       "    }\n",
       "</style>\n",
       "<table border=\"1\" class=\"dataframe\">\n",
       "  <thead>\n",
       "    <tr style=\"text-align: right;\">\n",
       "      <th></th>\n",
       "      <th>age</th>\n",
       "      <th>gender</th>\n",
       "      <th>race</th>\n",
       "      <th>file</th>\n",
       "    </tr>\n",
       "  </thead>\n",
       "  <tbody>\n",
       "    <tr>\n",
       "      <th>0</th>\n",
       "      <td>100.0</td>\n",
       "      <td>male</td>\n",
       "      <td>white</td>\n",
       "      <td>C:\\Users\\LaptopCheckout\\Downloads\\unme\\UTKFace...</td>\n",
       "    </tr>\n",
       "    <tr>\n",
       "      <th>1</th>\n",
       "      <td>100.0</td>\n",
       "      <td>male</td>\n",
       "      <td>white</td>\n",
       "      <td>C:\\Users\\LaptopCheckout\\Downloads\\unme\\UTKFace...</td>\n",
       "    </tr>\n",
       "    <tr>\n",
       "      <th>2</th>\n",
       "      <td>100.0</td>\n",
       "      <td>female</td>\n",
       "      <td>white</td>\n",
       "      <td>C:\\Users\\LaptopCheckout\\Downloads\\unme\\UTKFace...</td>\n",
       "    </tr>\n",
       "    <tr>\n",
       "      <th>3</th>\n",
       "      <td>100.0</td>\n",
       "      <td>female</td>\n",
       "      <td>white</td>\n",
       "      <td>C:\\Users\\LaptopCheckout\\Downloads\\unme\\UTKFace...</td>\n",
       "    </tr>\n",
       "    <tr>\n",
       "      <th>4</th>\n",
       "      <td>100.0</td>\n",
       "      <td>female</td>\n",
       "      <td>white</td>\n",
       "      <td>C:\\Users\\LaptopCheckout\\Downloads\\unme\\UTKFace...</td>\n",
       "    </tr>\n",
       "  </tbody>\n",
       "</table>\n",
       "</div>"
      ],
      "text/plain": [
       "     age  gender   race                                               file\n",
       "0  100.0    male  white  C:\\Users\\LaptopCheckout\\Downloads\\unme\\UTKFace...\n",
       "1  100.0    male  white  C:\\Users\\LaptopCheckout\\Downloads\\unme\\UTKFace...\n",
       "2  100.0  female  white  C:\\Users\\LaptopCheckout\\Downloads\\unme\\UTKFace...\n",
       "3  100.0  female  white  C:\\Users\\LaptopCheckout\\Downloads\\unme\\UTKFace...\n",
       "4  100.0  female  white  C:\\Users\\LaptopCheckout\\Downloads\\unme\\UTKFace..."
      ]
     },
     "execution_count": 149,
     "metadata": {},
     "output_type": "execute_result"
    }
   ],
   "source": [
    "df1 = pd.DataFrame(attributes)\n",
    "df1['file'] = f1\n",
    "df1.columns = ['age', 'gender', 'race', 'file']\n",
    "df1 = df1.dropna()\n",
    "df1.head()"
   ]
  },
  {
   "cell_type": "code",
   "execution_count": 150,
   "id": "d57e1c52",
   "metadata": {},
   "outputs": [
    {
     "data": {
      "text/plain": [
       "array(['male', 'female'], dtype=object)"
      ]
     },
     "execution_count": 150,
     "metadata": {},
     "output_type": "execute_result"
    }
   ],
   "source": [
    "df1 = df1[(df1['age'] > 10) & (df1['age'] < 65)]\n",
    "df1['gender'].unique()"
   ]
  },
  {
   "cell_type": "code",
   "execution_count": 151,
   "id": "972f5768",
   "metadata": {},
   "outputs": [
    {
     "data": {
      "text/plain": [
       "(9079, 3891, 5559, 64.0)"
      ]
     },
     "execution_count": 151,
     "metadata": {},
     "output_type": "execute_result"
    }
   ],
   "source": [
    "p = np.random.permutation(len(df1))\n",
    "train_up_to = int(len(df1) * TRAIN_TEST_SPLIT)\n",
    "train_idx = p[:train_up_to]\n",
    "test_idx = p[train_up_to:]\n",
    "train_up_to = int(train_up_to * 0.7)\n",
    "train_idx, valid_idx = train_idx[:train_up_to], train_idx[train_up_to:]\n",
    "df1['gender_id'] = df1['gender'].map(lambda gender: GENDER_ID_MAP[gender])\n",
    "df1['race_id'] = df1['race'].map(lambda race: RACE_ID_MAP[race])\n",
    "max_age = df1['age'].max()\n",
    "len(train_idx), len(valid_idx), len(test_idx), max_age"
   ]
  },
  {
   "cell_type": "code",
   "execution_count": 152,
   "id": "0e8193e5",
   "metadata": {},
   "outputs": [
    {
     "data": {
      "text/html": [
       "<div>\n",
       "<style scoped>\n",
       "    .dataframe tbody tr th:only-of-type {\n",
       "        vertical-align: middle;\n",
       "    }\n",
       "\n",
       "    .dataframe tbody tr th {\n",
       "        vertical-align: top;\n",
       "    }\n",
       "\n",
       "    .dataframe thead th {\n",
       "        text-align: right;\n",
       "    }\n",
       "</style>\n",
       "<table border=\"1\" class=\"dataframe\">\n",
       "  <thead>\n",
       "    <tr style=\"text-align: right;\">\n",
       "      <th></th>\n",
       "      <th>age</th>\n",
       "      <th>gender</th>\n",
       "      <th>race</th>\n",
       "      <th>file</th>\n",
       "      <th>gender_id</th>\n",
       "      <th>race_id</th>\n",
       "    </tr>\n",
       "  </thead>\n",
       "  <tbody>\n",
       "    <tr>\n",
       "      <th>188</th>\n",
       "      <td>11.0</td>\n",
       "      <td>male</td>\n",
       "      <td>white</td>\n",
       "      <td>C:\\Users\\LaptopCheckout\\Downloads\\unme\\UTKFace...</td>\n",
       "      <td>0</td>\n",
       "      <td>0</td>\n",
       "    </tr>\n",
       "    <tr>\n",
       "      <th>189</th>\n",
       "      <td>11.0</td>\n",
       "      <td>male</td>\n",
       "      <td>white</td>\n",
       "      <td>C:\\Users\\LaptopCheckout\\Downloads\\unme\\UTKFace...</td>\n",
       "      <td>0</td>\n",
       "      <td>0</td>\n",
       "    </tr>\n",
       "    <tr>\n",
       "      <th>190</th>\n",
       "      <td>11.0</td>\n",
       "      <td>male</td>\n",
       "      <td>white</td>\n",
       "      <td>C:\\Users\\LaptopCheckout\\Downloads\\unme\\UTKFace...</td>\n",
       "      <td>0</td>\n",
       "      <td>0</td>\n",
       "    </tr>\n",
       "    <tr>\n",
       "      <th>191</th>\n",
       "      <td>11.0</td>\n",
       "      <td>male</td>\n",
       "      <td>white</td>\n",
       "      <td>C:\\Users\\LaptopCheckout\\Downloads\\unme\\UTKFace...</td>\n",
       "      <td>0</td>\n",
       "      <td>0</td>\n",
       "    </tr>\n",
       "    <tr>\n",
       "      <th>192</th>\n",
       "      <td>11.0</td>\n",
       "      <td>male</td>\n",
       "      <td>white</td>\n",
       "      <td>C:\\Users\\LaptopCheckout\\Downloads\\unme\\UTKFace...</td>\n",
       "      <td>0</td>\n",
       "      <td>0</td>\n",
       "    </tr>\n",
       "    <tr>\n",
       "      <th>...</th>\n",
       "      <td>...</td>\n",
       "      <td>...</td>\n",
       "      <td>...</td>\n",
       "      <td>...</td>\n",
       "      <td>...</td>\n",
       "      <td>...</td>\n",
       "    </tr>\n",
       "    <tr>\n",
       "      <th>21078</th>\n",
       "      <td>64.0</td>\n",
       "      <td>female</td>\n",
       "      <td>white</td>\n",
       "      <td>C:\\Users\\LaptopCheckout\\Downloads\\unme\\UTKFace...</td>\n",
       "      <td>1</td>\n",
       "      <td>0</td>\n",
       "    </tr>\n",
       "    <tr>\n",
       "      <th>21079</th>\n",
       "      <td>64.0</td>\n",
       "      <td>female</td>\n",
       "      <td>white</td>\n",
       "      <td>C:\\Users\\LaptopCheckout\\Downloads\\unme\\UTKFace...</td>\n",
       "      <td>1</td>\n",
       "      <td>0</td>\n",
       "    </tr>\n",
       "    <tr>\n",
       "      <th>21080</th>\n",
       "      <td>64.0</td>\n",
       "      <td>female</td>\n",
       "      <td>white</td>\n",
       "      <td>C:\\Users\\LaptopCheckout\\Downloads\\unme\\UTKFace...</td>\n",
       "      <td>1</td>\n",
       "      <td>0</td>\n",
       "    </tr>\n",
       "    <tr>\n",
       "      <th>21081</th>\n",
       "      <td>64.0</td>\n",
       "      <td>female</td>\n",
       "      <td>white</td>\n",
       "      <td>C:\\Users\\LaptopCheckout\\Downloads\\unme\\UTKFace...</td>\n",
       "      <td>1</td>\n",
       "      <td>0</td>\n",
       "    </tr>\n",
       "    <tr>\n",
       "      <th>21082</th>\n",
       "      <td>64.0</td>\n",
       "      <td>female</td>\n",
       "      <td>black</td>\n",
       "      <td>C:\\Users\\LaptopCheckout\\Downloads\\unme\\UTKFace...</td>\n",
       "      <td>1</td>\n",
       "      <td>1</td>\n",
       "    </tr>\n",
       "  </tbody>\n",
       "</table>\n",
       "<p>18529 rows × 6 columns</p>\n",
       "</div>"
      ],
      "text/plain": [
       "        age  gender   race                                               file  \\\n",
       "188    11.0    male  white  C:\\Users\\LaptopCheckout\\Downloads\\unme\\UTKFace...   \n",
       "189    11.0    male  white  C:\\Users\\LaptopCheckout\\Downloads\\unme\\UTKFace...   \n",
       "190    11.0    male  white  C:\\Users\\LaptopCheckout\\Downloads\\unme\\UTKFace...   \n",
       "191    11.0    male  white  C:\\Users\\LaptopCheckout\\Downloads\\unme\\UTKFace...   \n",
       "192    11.0    male  white  C:\\Users\\LaptopCheckout\\Downloads\\unme\\UTKFace...   \n",
       "...     ...     ...    ...                                                ...   \n",
       "21078  64.0  female  white  C:\\Users\\LaptopCheckout\\Downloads\\unme\\UTKFace...   \n",
       "21079  64.0  female  white  C:\\Users\\LaptopCheckout\\Downloads\\unme\\UTKFace...   \n",
       "21080  64.0  female  white  C:\\Users\\LaptopCheckout\\Downloads\\unme\\UTKFace...   \n",
       "21081  64.0  female  white  C:\\Users\\LaptopCheckout\\Downloads\\unme\\UTKFace...   \n",
       "21082  64.0  female  black  C:\\Users\\LaptopCheckout\\Downloads\\unme\\UTKFace...   \n",
       "\n",
       "       gender_id  race_id  \n",
       "188            0        0  \n",
       "189            0        0  \n",
       "190            0        0  \n",
       "191            0        0  \n",
       "192            0        0  \n",
       "...          ...      ...  \n",
       "21078          1        0  \n",
       "21079          1        0  \n",
       "21080          1        0  \n",
       "21081          1        0  \n",
       "21082          1        1  \n",
       "\n",
       "[18529 rows x 6 columns]"
      ]
     },
     "execution_count": 152,
     "metadata": {},
     "output_type": "execute_result"
    }
   ],
   "source": [
    "df1"
   ]
  },
  {
   "cell_type": "code",
   "execution_count": 153,
   "id": "efb4adb2",
   "metadata": {},
   "outputs": [],
   "source": [
    "from tensorflow.keras.utils import to_categorical\n",
    "from PIL import Image\n",
    "def get_data_generator(df1, indices, for_training, batch_size=16):\n",
    "    images, ages, races, genders = [], [], [], []\n",
    "    while True:\n",
    "        for i in indices:\n",
    "            r = df1.iloc[i]\n",
    "            file, age, race, gender = r['file'], r['age'], r['race_id'], r['gender_id']\n",
    "            im = Image.open(file)\n",
    "            im = im.resize((IM_WIDTH, IM_HEIGHT))\n",
    "            im = np.array(im) / 255.0\n",
    "            images.append(im)\n",
    "            ages.append(age / max_age)\n",
    "            races.append(to_categorical(race, len(RACE_ID_MAP)))\n",
    "            genders.append(to_categorical(gender, len(GENDER_ID_MAP)))\n",
    "            if len(images) >= batch_size:\n",
    "                yield np.array(images), [np.array(ages), np.array(races), np.array(genders)]\n",
    "                images, ages, races, genders = [], [], [], []\n",
    "        if not for_training:\n",
    "            break"
   ]
  },
  {
   "cell_type": "code",
   "execution_count": 154,
   "id": "1cd6ddf8",
   "metadata": {},
   "outputs": [],
   "source": [
    "from tensorflow.keras.layers import Input, Dense, BatchNormalization, Conv2D, MaxPool2D, GlobalMaxPool2D\n",
    "from tensorflow.keras.optimizers import SGD\n",
    "from tensorflow.keras.models import Model\n",
    "\n",
    "def conv_block(inp, filters=32, bn=True, pool=True):\n",
    "    _ = Conv2D(filters=filters, kernel_size=3, activation='relu')(inp)\n",
    "    if bn:\n",
    "        _ = BatchNormalization()(_)\n",
    "    if pool:\n",
    "        _ = MaxPool2D()(_)\n",
    "    return _\n",
    "input_layer = Input(shape=(IM_HEIGHT, IM_WIDTH, 3))\n",
    "_ = conv_block(input_layer, filters=32, bn=False, pool=False)\n",
    "_ = conv_block(_, filters=32*2)\n",
    "_ = conv_block(_, filters=32*3)\n",
    "_ = conv_block(_, filters=32*4)\n",
    "_ = conv_block(_, filters=32*5)\n",
    "_ = conv_block(_, filters=32*6)\n",
    "bottleneck = GlobalMaxPool2D()(_)\n",
    "_ = Dense(units=128, activation='relu')(bottleneck)\n",
    "age_output = Dense(units=1, activation='sigmoid', name='age_output')(_)\n",
    "_ = Dense(units=128, activation='relu')(bottleneck)\n",
    "race_output = Dense(units=len(RACE_ID_MAP), activation='softmax', name='race_output')(_)\n",
    "_ = Dense(units=128, activation='relu')(bottleneck)\n",
    "gender_output = Dense(units=len(GENDER_ID_MAP), activation='softmax', name='gender_output')(_)\n",
    "model = Model(inputs=input_layer, outputs=[age_output, race_output, gender_output])\n",
    "model.compile(optimizer='rmsprop',loss={'age_output': 'mse','race_output':'categorical_crossentropy','gender_output':'categorical_crossentropy'},loss_weights={'age_output': 2.,'race_output': 1.5,'gender_output':1},metrics={'age_output': 'mae','race_output': 'accuracy','gender_output':'accuracy'})\n",
    "#model.summary()"
   ]
  },
  {
   "cell_type": "code",
   "execution_count": 155,
   "id": "47c7c751",
   "metadata": {},
   "outputs": [],
   "source": [
    "#model.summary()"
   ]
  },
  {
   "cell_type": "code",
   "execution_count": 156,
   "id": "80a163c3",
   "metadata": {},
   "outputs": [
    {
     "name": "stdout",
     "output_type": "stream",
     "text": [
      "Epoch 1/2\n",
      "567/567 [==============================] - ETA: 0s - loss: 2.5569 - age_output_loss: 0.0482 - race_output_loss: 1.2671 - gender_output_loss: 0.5598 - age_output_mae: 0.1733 - race_output_accuracy: 0.5245 - gender_output_accuracy: 0.7396INFO:tensorflow:Assets written to: .\\model_checkpoint\\assets\n",
      "567/567 [==============================] - 1285s 2s/step - loss: 2.5569 - age_output_loss: 0.0482 - race_output_loss: 1.2671 - gender_output_loss: 0.5598 - age_output_mae: 0.1733 - race_output_accuracy: 0.5245 - gender_output_accuracy: 0.7396 - val_loss: 3.0422 - val_age_output_loss: 0.0476 - val_race_output_loss: 1.4943 - val_gender_output_loss: 0.7055 - val_age_output_mae: 0.1714 - val_race_output_accuracy: 0.4493 - val_gender_output_accuracy: 0.5183\n",
      "Epoch 2/2\n",
      "567/567 [==============================] - ETA: 0s - loss: 1.7218 - age_output_loss: 0.0304 - race_output_loss: 0.8905 - gender_output_loss: 0.3253 - age_output_mae: 0.1382 - race_output_accuracy: 0.6749 - gender_output_accuracy: 0.8646INFO:tensorflow:Assets written to: .\\model_checkpoint\\assets\n",
      "567/567 [==============================] - 1238s 2s/step - loss: 1.7218 - age_output_loss: 0.0304 - race_output_loss: 0.8905 - gender_output_loss: 0.3253 - age_output_mae: 0.1382 - race_output_accuracy: 0.6749 - gender_output_accuracy: 0.8646 - val_loss: 2.1338 - val_age_output_loss: 0.0363 - val_race_output_loss: 1.0477 - val_gender_output_loss: 0.4897 - val_age_output_mae: 0.1587 - val_race_output_accuracy: 0.6211 - val_gender_output_accuracy: 0.7765\n"
     ]
    }
   ],
   "source": [
    "from tensorflow.keras.callbacks import ModelCheckpoint\n",
    "batch_size = 16\n",
    "valid_batch_size = 16\n",
    "train_gen = get_data_generator(df1, train_idx, for_training=True, batch_size=batch_size)\n",
    "valid_gen = get_data_generator(df1, valid_idx, for_training=True, batch_size=valid_batch_size)\n",
    "callbacks = [ModelCheckpoint(\"./model_checkpoint\", monitor='val_loss')]\n",
    "history = model.fit_generator(train_gen,steps_per_epoch=len(train_idx)//batch_size,epochs=2,callbacks=callbacks,validation_data=valid_gen,validation_steps=len(valid_idx)//valid_batch_size)"
   ]
  },
  {
   "cell_type": "code",
   "execution_count": 157,
   "id": "ec9229f9",
   "metadata": {},
   "outputs": [
    {
     "data": {
      "image/png": "[encoded data removed]",
      "text/plain": [
       "<Figure size 1440x360 with 4 Axes>"
      ]
     },
     "metadata": {
      "needs_background": "light"
     },
     "output_type": "display_data"
    }
   ],
   "source": [
    "def plot_train_history(history):\n",
    "    fig, axes = plt.subplots(1, 4, figsize=(20, 5))\n",
    "    axes[0].plot(history.history['race_output_accuracy'], label='Race Train accuracy')\n",
    "    axes[0].plot(history.history['val_race_output_accuracy'], label='Race Val accuracy')\n",
    "    axes[0].set_xlabel('Epochs')\n",
    "    axes[0].legend()\n",
    " \n",
    "    axes[1].plot(history.history['gender_output_accuracy'], label='Gender Train accuracy')\n",
    "    axes[1].plot(history.history['val_gender_output_accuracy'], label='Gener Val accuracy') \n",
    "    axes[1].set_xlabel('Epochs')\n",
    "    axes[1].legend()\n",
    "    axes[2].plot(history.history['age_output_loss'], label='Age Train MAE')\n",
    "    axes[2].plot(history.history['val_age_output_loss'], label='Age Val MAE')\n",
    "    axes[2].set_xlabel('Epochs')\n",
    "    axes[2].legend() \n",
    "    axes[3].plot(history.history['loss'], label='Training loss')\n",
    "    axes[3].plot(history.history['val_loss'], label='Validation loss')\n",
    "    axes[3].set_xlabel('Epochs')\n",
    "    axes[3].legend()\n",
    "plot_train_history(history)\n"
   ]
  },
  {
   "cell_type": "code",
   "execution_count": 160,
   "id": "7da15d69",
   "metadata": {},
   "outputs": [
    {
     "name": "stdout",
     "output_type": "stream",
     "text": [
      "WARNING:tensorflow:Your input ran out of data; interrupting training. Make sure that your dataset or generator can generate at least `steps_per_epoch * epochs` batches (in this case, 5559 batches). You may need to use the repeat() function when building your dataset.\n"
     ]
    },
    {
     "data": {
      "text/plain": [
       "{'loss': 2.119696617126465,\n",
       " 'age_output_loss': 0.0350666269659996,\n",
       " 'race_output_loss': 1.0483360290527344,\n",
       " 'gender_output_loss': 0.4770592153072357,\n",
       " 'age_output_mae': 0.15584135055541992,\n",
       " 'race_output_accuracy': 0.6057412624359131,\n",
       " 'gender_output_accuracy': 0.784338653087616}"
      ]
     },
     "execution_count": 160,
     "metadata": {},
     "output_type": "execute_result"
    }
   ],
   "source": [
    "test_gen = get_data_generator(df1, test_idx, for_training=False, batch_size=128)\n",
    "dict(zip(model.metrics_names, model.evaluate_generator(test_gen, steps=len(test_idx))))"
   ]
  },
  {
   "cell_type": "code",
   "execution_count": 161,
   "id": "a76121e0",
   "metadata": {},
   "outputs": [],
   "source": [
    "test_gen = get_data_generator(df1, test_idx, for_training=False, batch_size=128)\n",
    "x_test, (age_true, race_true, gender_true)= next(test_gen)\n",
    "age_pred, race_pred, gender_pred = model.predict_on_batch(x_test)\n"
   ]
  },
  {
   "cell_type": "code",
   "execution_count": 162,
   "id": "b3d204f9",
   "metadata": {},
   "outputs": [],
   "source": [
    "race_true, gender_true = race_true.argmax(axis=-1), gender_true.argmax(axis=-1)\n",
    "race_pred, gender_pred = race_pred.argmax(axis=-1), gender_pred.argmax(axis=-1)\n",
    "age_true = age_true * max_age\n",
    "age_pred = age_pred * max_age\n"
   ]
  },
  {
   "cell_type": "code",
   "execution_count": 163,
   "id": "e21adaa7",
   "metadata": {},
   "outputs": [
    {
     "name": "stdout",
     "output_type": "stream",
     "text": [
      "Classification report for race\n",
      "              precision    recall  f1-score   support\n",
      "\n",
      "           0       0.73      0.83      0.77        64\n",
      "           1       0.59      0.74      0.65        23\n",
      "           2       0.69      0.75      0.72        12\n",
      "           3       0.57      0.21      0.31        19\n",
      "           4       0.17      0.10      0.12        10\n",
      "\n",
      "    accuracy                           0.66       128\n",
      "   macro avg       0.55      0.53      0.52       128\n",
      "weighted avg       0.63      0.66      0.63       128\n",
      "\n",
      "\n",
      "Classification report for gender\n",
      "              precision    recall  f1-score   support\n",
      "\n",
      "           0       0.74      0.97      0.84        71\n",
      "           1       0.94      0.58      0.72        57\n",
      "\n",
      "    accuracy                           0.80       128\n",
      "   macro avg       0.84      0.78      0.78       128\n",
      "weighted avg       0.83      0.80      0.79       128\n",
      "\n"
     ]
    }
   ],
   "source": [
    "from sklearn.metrics import classification_report\n",
    "print(\"Classification report for race\")\n",
    "print(classification_report(race_true, race_pred))\n",
    "print(\"\\nClassification report for gender\")\n",
    "print(classification_report(gender_true, gender_pred))\n"
   ]
  },
  {
   "cell_type": "code",
   "execution_count": 167,
   "id": "9cdf2011",
   "metadata": {},
   "outputs": [
    {
     "name": "stdout",
     "output_type": "stream",
     "text": [
      "Actual 430\n",
      "Prediction 570\n",
      "Actual 340\n",
      "Prediction 380\n",
      "Actual 420\n",
      "Prediction 410\n",
      "Actual 360\n",
      "Prediction 610\n",
      "Actual 440\n",
      "Prediction 280\n",
      "Actual 400\n",
      "Prediction 300\n",
      "Actual 370\n",
      "Prediction 160\n",
      "Actual 390\n",
      "Prediction 260\n",
      "Actual 370\n",
      "Prediction 280\n",
      "Actual 370\n",
      "Prediction 480\n",
      "Actual 420\n",
      "Prediction 370\n",
      "Actual 440\n",
      "Prediction 560\n",
      "Actual 430\n",
      "Prediction 570\n",
      "Actual 350\n",
      "Prediction 350\n",
      "Actual 440\n",
      "Prediction 480\n",
      "Actual 360\n",
      "Prediction 320\n",
      "Actual 390\n",
      "Prediction 470\n",
      "Actual 350\n",
      "Prediction 270\n",
      "Actual 410\n",
      "Prediction 190\n",
      "Actual 410\n",
      "Prediction 520\n",
      "Actual 310\n",
      "Prediction 380\n",
      "Actual 360\n",
      "Prediction 420\n",
      "Actual 410\n",
      "Prediction 270\n",
      "Actual 480\n",
      "Prediction 380\n",
      "Actual 400\n",
      "Prediction 370\n",
      "Actual 370\n",
      "Prediction 180\n",
      "Actual 450\n",
      "Prediction 580\n",
      "Actual 370\n",
      "Prediction 490\n",
      "Actual 380\n",
      "Prediction 170\n",
      "Actual 380\n",
      "Prediction 300\n"
     ]
    }
   ],
   "source": [
    "import math\n",
    "n = 30\n",
    "random_indices = np.random.permutation(n)\n",
    "a = 10\n",
    "b = 20\n",
    "c = 10\n",
    "for i, img_idx in enumerate(random_indices):\n",
    "    pred_hash = a * int(age_pred[img_idx]) + b * gender_pred[img_idx] + c * race_pred[img_idx]\n",
    "    act_hash = a * int(age_true[img_idx]) + b * gender_true[img_idx] + c * race_true[img_idx]\n",
    "    print(\"Actual\", pred_hash)\n",
    "    print(\"Prediction\", act_hash)\n"
   ]
  },
  {
   "cell_type": "code",
   "execution_count": null,
   "id": "9e51c433",
   "metadata": {},
   "outputs": [],
   "source": []
  }
 ],
 "metadata": {
  "kernelspec": {
   "display_name": "Python 3 (ipykernel)",
   "language": "python",
   "name": "python3"
  },
  "language_info": {
   "codemirror_mode": {
    "name": "ipython",
    "version": 3
   },
   "file_extension": ".py",
   "mimetype": "text/x-python",
   "name": "python",
   "nbconvert_exporter": "python",
   "pygments_lexer": "ipython3",
   "version": "3.9.7"
  }
 },
 "nbformat": 4,
 "nbformat_minor": 5
}
